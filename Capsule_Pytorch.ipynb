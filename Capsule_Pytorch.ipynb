{
  "nbformat": 4,
  "nbformat_minor": 0,
  "metadata": {
    "colab": {
      "name": "Capsule Pytorch.ipynb",
      "version": "0.3.2",
      "provenance": [],
      "collapsed_sections": [],
      "toc_visible": true
    },
    "language_info": {
      "codemirror_mode": {
        "name": "ipython",
        "version": 3
      },
      "file_extension": ".py",
      "mimetype": "text/x-python",
      "name": "python",
      "nbconvert_exporter": "python",
      "pygments_lexer": "ipython3",
      "version": "3.6.8"
    },
    "kernelspec": {
      "name": "python3",
      "display_name": "Python 3"
    },
    "accelerator": "GPU"
  },
  "cells": [
    {
      "cell_type": "code",
      "metadata": {
        "id": "77gWhdAk8Z0_",
        "colab_type": "code",
        "colab": {}
      },
      "source": [
        "import torch\n",
        "import torch.nn as nn\n",
        "import torch.nn.functional as F\n",
        "import torch.optim as optim\n",
        "from torchvision import datasets, transforms\n",
        "from torch.nn.init import xavier_uniform_ as init\n",
        "from torch.autograd import Variable\n"
      ],
      "execution_count": 0,
      "outputs": []
    },
    {
      "cell_type": "markdown",
      "metadata": {
        "id": "4RubMgSs8Z1J",
        "colab_type": "text"
      },
      "source": [
        "# prepare data"
      ]
    },
    {
      "cell_type": "code",
      "metadata": {
        "id": "p6ntKBnW8Z1J",
        "colab_type": "code",
        "outputId": "a57ea53c-f331-456e-ab5e-5afb3d8355f9",
        "colab": {
          "base_uri": "https://localhost:8080/",
          "height": 35
        }
      },
      "source": [
        "BATCH_SIZE=128 #大概需要2G的显存\n",
        "EPOCHS=20 # 总共训练批次\n",
        "DEVICE = torch.device(\"cuda\" if torch.cuda.is_available() else \"cpu\") # 让torch判断是否使用GPU，建议使用GPU环境，因为会快很多\n",
        "DEVICE"
      ],
      "execution_count": 2,
      "outputs": [
        {
          "output_type": "execute_result",
          "data": {
            "text/plain": [
              "device(type='cuda')"
            ]
          },
          "metadata": {
            "tags": []
          },
          "execution_count": 2
        }
      ]
    },
    {
      "cell_type": "code",
      "metadata": {
        "id": "AS0ldjbc8Z1M",
        "colab_type": "code",
        "colab": {}
      },
      "source": [
        "train_loader = torch.utils.data.DataLoader(\n",
        "        datasets.MNIST('data', train=True, download=True, \n",
        "                       transform=transforms.Compose([\n",
        "                           transforms.ToTensor(),\n",
        "                           transforms.Normalize((0.1307,), (0.3081,))\n",
        "                       ])),\n",
        "        batch_size=BATCH_SIZE, shuffle=True)"
      ],
      "execution_count": 0,
      "outputs": []
    },
    {
      "cell_type": "code",
      "metadata": {
        "id": "PwGmQdt_8Z1O",
        "colab_type": "code",
        "colab": {}
      },
      "source": [
        "test_loader = torch.utils.data.DataLoader(\n",
        "        datasets.MNIST('data', train=False, transform=transforms.Compose([\n",
        "                           transforms.ToTensor(),\n",
        "                           transforms.Normalize((0.1307,), (0.3081,))\n",
        "                       ])),\n",
        "        batch_size=500, shuffle=True)"
      ],
      "execution_count": 0,
      "outputs": []
    },
    {
      "cell_type": "code",
      "metadata": {
        "id": "LT-93_sze85s",
        "colab_type": "code",
        "colab": {}
      },
      "source": [
        "test_iter = iter(test_loader)\n",
        "imgs,labels = next(test_iter)"
      ],
      "execution_count": 0,
      "outputs": []
    },
    {
      "cell_type": "code",
      "metadata": {
        "id": "htTReQjgiimg",
        "colab_type": "code",
        "outputId": "26c8cc2e-21fb-46aa-f1a6-d63dd8e13814",
        "colab": {
          "base_uri": "https://localhost:8080/",
          "height": 35
        }
      },
      "source": [
        "print(imgs.shape,labels.shape)"
      ],
      "execution_count": 6,
      "outputs": [
        {
          "output_type": "stream",
          "text": [
            "torch.Size([500, 1, 28, 28]) torch.Size([500])\n"
          ],
          "name": "stdout"
        }
      ]
    },
    {
      "cell_type": "code",
      "metadata": {
        "id": "8RHPCd6MfIwz",
        "colab_type": "code",
        "colab": {}
      },
      "source": [
        "# from keras.datasets import mnist\n",
        "# (x_train, y_train), (x_test, y_test) = mnist.load_data()"
      ],
      "execution_count": 0,
      "outputs": []
    },
    {
      "cell_type": "code",
      "metadata": {
        "id": "LFqtb-Ajf1ug",
        "colab_type": "code",
        "outputId": "4c998a5d-f521-4149-e71d-2376ddce5e1e",
        "colab": {
          "base_uri": "https://localhost:8080/",
          "height": 128
        }
      },
      "source": [
        "x_test = torch.tensor(imgs[:500],device=DEVICE,dtype=torch.float)\n",
        "# x_test = x_test.view(x_test.size(0),1, x_test.size(1),x_test.size(2))\n",
        "y_test = torch.tensor(labels[:500],device=DEVICE,dtype=torch.long)\n",
        "\n",
        "\n",
        "print(x_test.shape, y_test.shape)"
      ],
      "execution_count": 8,
      "outputs": [
        {
          "output_type": "stream",
          "text": [
            "/usr/local/lib/python3.6/dist-packages/ipykernel_launcher.py:1: UserWarning: To copy construct from a tensor, it is recommended to use sourceTensor.clone().detach() or sourceTensor.clone().detach().requires_grad_(True), rather than torch.tensor(sourceTensor).\n",
            "  \"\"\"Entry point for launching an IPython kernel.\n"
          ],
          "name": "stderr"
        },
        {
          "output_type": "stream",
          "text": [
            "torch.Size([500, 1, 28, 28]) torch.Size([500])\n"
          ],
          "name": "stdout"
        },
        {
          "output_type": "stream",
          "text": [
            "/usr/local/lib/python3.6/dist-packages/ipykernel_launcher.py:3: UserWarning: To copy construct from a tensor, it is recommended to use sourceTensor.clone().detach() or sourceTensor.clone().detach().requires_grad_(True), rather than torch.tensor(sourceTensor).\n",
            "  This is separate from the ipykernel package so we can avoid doing imports until\n"
          ],
          "name": "stderr"
        }
      ]
    },
    {
      "cell_type": "markdown",
      "metadata": {
        "id": "oNiREwDe8Z1Q",
        "colab_type": "text"
      },
      "source": [
        "# Model"
      ]
    },
    {
      "cell_type": "code",
      "metadata": {
        "id": "V5MJV1tsSGbm",
        "colab_type": "code",
        "colab": {}
      },
      "source": [
        "epsilon = 0.00000001\n",
        "def squash(x):\n",
        "    # not concern batch_size, maybe rewrite\n",
        "    s_squared_norm = torch.sum(x*x,1,keepdim=True) + epsilon\n",
        "    scale = torch.sqrt(s_squared_norm)/(1. + s_squared_norm)\n",
        "    # out = (batch_size,1,10)*(batch_size,16,10) = (batch_size,16,10)\n",
        "    out = scale * x\n",
        "    return out"
      ],
      "execution_count": 0,
      "outputs": []
    },
    {
      "cell_type": "code",
      "metadata": {
        "id": "tzVC4dbZ8Z1R",
        "colab_type": "code",
        "colab": {}
      },
      "source": [
        "# A Capsule Implement with pytorch\n",
        "class Capsule(nn.Module):\n",
        "\n",
        "    def __init__(self, in_units,in_channels, num_capsule, dim_capsule, routings=3, **kwargs):\n",
        "        super(Capsule, self).__init__(**kwargs)\n",
        "        self.in_units = in_units\n",
        "        self.in_channels = in_channels\n",
        "        self.num_capsule = num_capsule\n",
        "        self.dim_capsule = dim_capsule\n",
        "        self.routings = routings\n",
        "        # (in_units,10,128,16)\n",
        "        self.W = nn.Parameter((torch.randn(self.in_units,self.num_capsule,self.in_channels, self.dim_capsule)))\n",
        "\n",
        "    def forward(self, u_vecs):\n",
        "        u_vecs = u_vecs.view(u_vecs.size(0),u_vecs.size(2),1,1,u_vecs.size(1))\n",
        "        \n",
        "        # (batch_size,in_units,1,1,in_channels)*(in_units,10,in_channels,16) = (batch_size,in_units,10,1,16)\n",
        "        u_hat_vecs = torch.matmul(u_vecs,self.W)\n",
        "        # (batch_size,in_units,10,16)\n",
        "        u_hat_vecs = u_hat_vecs.view(u_hat_vecs.size(0),u_hat_vecs.size(1),u_hat_vecs.size(2),-1)\n",
        "        # (batch_size,10,in_units,16)\n",
        "        u_hat_vecs2 = u_hat_vecs.view(u_hat_vecs.size(0),u_hat_vecs.size(2),u_hat_vecs.size(1),u_hat_vecs.size(3))\n",
        "    \n",
        "        # (batch_size,10,1,in_units)\n",
        "        b = torch.zeros(u_hat_vecs.size(0),self.num_capsule,1,self.in_units,device=DEVICE)\n",
        "        for i in range(self.routings):\n",
        "            # (batch_size,10,1,in_units)\n",
        "            c = F.softmax(b,-1)\n",
        "            # s = (batch_size,10,1,in_units)*(batch_size,10,in_units,16) = (batch_size,10,1,16)\n",
        "            s = torch.matmul(c,u_hat_vecs2)\n",
        "            # (batch_size,16,10)\n",
        "            s = s.view(s.size(0),s.size(3),s.size(1))\n",
        "            # (batch_size,16,10)\n",
        "            v = squash(s)\n",
        "            # here\n",
        "            # (batch_size,10,16,1)\n",
        "            v = v.view(v.size(0),v.size(2),v.size(1),1)\n",
        "            # (batch_size,10,in_units,16)*(batch_size,10,16,1) = (batch_size,10,in_units,1)\n",
        "            sim = torch.matmul(u_hat_vecs2,v)\n",
        "            # (batch_size,10,1,in_units)\n",
        "            sim = sim.view(sim.size(0),sim.size(1),1,sim.size(2))\n",
        "            b = b+sim\n",
        "        # (batch_size,16,10)\n",
        "        return v.view(v.size(0),v.size(2),v.size(1))\n",
        "\n",
        "is_over_lap = False\n",
        "class Decoder(nn.Module):\n",
        "    def __init__(self):\n",
        "        super(Decoder, self).__init__()\n",
        "        \n",
        "        self.reconstraction_layers = nn.Sequential(\n",
        "            nn.Linear(16 * 10, 512),\n",
        "            nn.ReLU(inplace=True),\n",
        "            nn.Linear(512, 1024),\n",
        "            nn.ReLU(inplace=True),\n",
        "            nn.Linear(1024, 784),\n",
        "            nn.Sigmoid()\n",
        "        )\n",
        "        \n",
        "    def forward(self, x):\n",
        "        # x (batch_size,10,16)\n",
        "        classes = torch.sqrt((x ** 2).sum(2))\n",
        "        # x (batch_size,10)\n",
        "        classes = F.softmax(classes)\n",
        "        if not is_over_lap:\n",
        "            _, max_length_indices = classes.max(dim=1)\n",
        "            masked = Variable(torch.sparse.torch.eye(10))\n",
        "            masked = masked.index_select(dim=0, index=max_length_indices.cpu().data)\n",
        "            masked = masked.unsqueeze(2)\n",
        "        else:\n",
        "            # two digits\n",
        "            sort_class = classes.argsort(1)\n",
        "            index1 = sort_class[:,-1]\n",
        "            index2 = sort_class[:,-2]\n",
        "            \n",
        "            masked1 = Variable(torch.sparse.torch.eye(10))\n",
        "            masked1 = masked1.index_select(dim=0, index=index1.cpu().data)\n",
        "            masked1 = masked1.unsqueeze(2)\n",
        "            masked1 = masked1.cuda()\n",
        "            \n",
        "            masked2 = Variable(torch.sparse.torch.eye(10))\n",
        "            masked2 = masked2.index_select(dim=0, index=index2.cpu().data)\n",
        "            masked2 = masked2.unsqueeze(2)\n",
        "            masked2 = masked2.cuda()\n",
        "            \n",
        "            reconstructions1 = self.reconstraction_layers((masked1*x).view(x.size(0), -1))\n",
        "            reconstructions1 = reconstructions1.view(-1, 1, 28, 28)\n",
        "            \n",
        "            reconstructions2 = self.reconstraction_layers((masked2*x).view(x.size(0), -1))\n",
        "            reconstructions2 = reconstructions2.view(-1, 1, 28, 28)\n",
        "            \n",
        "            \n",
        "            \n",
        "            reconstructions = torch.stack((reconstructions1,reconstructions2),1)\n",
        "            return reconstructions\n",
        "\n",
        "#             masked = torch.max(masked1,masked2)\n",
        "#             masked = masked.unsqueeze(2)\n",
        "            \n",
        "        \n",
        "        masked = masked.cuda()\n",
        "        inp = masked*x\n",
        "        inp = inp.view(x.size(0), -1)\n",
        "        reconstructions = self.reconstraction_layers(inp)\n",
        "        reconstructions = reconstructions.view(-1, 1, 28, 28)\n",
        "        \n",
        "        return reconstructions    \n",
        "    \n",
        "    \n",
        "class CapsuleNet(nn.Module):\n",
        "    def __init__(self):\n",
        "        super().__init__()\n",
        "        # 1,28x28\n",
        "        self.conv1=nn.Conv2d(1,256,9) \n",
        "        self.conv2=nn.Conv2d(256,32*8,9,2) \n",
        "        self.capsule = Capsule(1152,8, 10, 16)\n",
        "        self.Decoder = Decoder()\n",
        "   \n",
        "#         self.fc2 = nn.Linear(500,10)\n",
        "    def forward(self,x):\n",
        "        batch_size = x.size(0)\n",
        "        out = self.conv1(x)\n",
        "        out = F.relu(out)\n",
        "        out = self.conv2(out)\n",
        "        out = F.relu(out)\n",
        "        out = out.view(batch_size,8,-1)\n",
        "        out = squash(out)\n",
        "\n",
        "        # (batch_size,8,1152)\n",
        "        out = out.view(out.size(0),out.size(1),-1)\n",
        "        # (batch_size,16,10)\n",
        "        out = self.capsule(out)\n",
        "        # (batch_size,10,16)\n",
        "        out = out.view(out.size(0),out.size(2),out.size(1))\n",
        "        \n",
        "\n",
        "        \n",
        "        decoder = self.Decoder(out)\n",
        "#         decoder = decoder.view(decoder.size(0),1,28,28)\n",
        "        \n",
        "        # (batch_size,10)\n",
        "        out = torch.sqrt(torch.sum(out*out, 2))\n",
        "        \n",
        "\n",
        "\n",
        "        return decoder,out"
      ],
      "execution_count": 0,
      "outputs": []
    },
    {
      "cell_type": "code",
      "metadata": {
        "id": "WU6uRB2f9pFE",
        "colab_type": "code",
        "colab": {
          "base_uri": "https://localhost:8080/",
          "height": 290
        },
        "outputId": "4f0c957a-2ec5-4769-b2fa-25ba2ac16149"
      },
      "source": [
        "import os\n",
        "model = CapsuleNet()\n",
        "if os.path.exists('params.pkl'):\n",
        "    model.load_state_dict(torch.load('bestparams.pkl'))\n",
        "\n",
        "model.to(DEVICE)\n",
        "print(model)"
      ],
      "execution_count": 11,
      "outputs": [
        {
          "output_type": "stream",
          "text": [
            "CapsuleNet(\n",
            "  (conv1): Conv2d(1, 256, kernel_size=(9, 9), stride=(1, 1))\n",
            "  (conv2): Conv2d(256, 256, kernel_size=(9, 9), stride=(2, 2))\n",
            "  (capsule): Capsule()\n",
            "  (Decoder): Decoder(\n",
            "    (reconstraction_layers): Sequential(\n",
            "      (0): Linear(in_features=160, out_features=512, bias=True)\n",
            "      (1): ReLU(inplace)\n",
            "      (2): Linear(in_features=512, out_features=1024, bias=True)\n",
            "      (3): ReLU(inplace)\n",
            "      (4): Linear(in_features=1024, out_features=784, bias=True)\n",
            "      (5): Sigmoid()\n",
            "    )\n",
            "  )\n",
            ")\n"
          ],
          "name": "stdout"
        }
      ]
    },
    {
      "cell_type": "code",
      "metadata": {
        "id": "e7yBV9lN6I6C",
        "colab_type": "code",
        "outputId": "b9ad691f-5d35-4934-beba-27b717dc0078",
        "colab": {
          "base_uri": "https://localhost:8080/",
          "height": 255
        }
      },
      "source": [
        "optimizer = optim.Adam(model.parameters())#,lr=0.000001)\n",
        "n_epoch = 3\n",
        "pre_acc = 0\n",
        "for epoch in range(n_epoch):\n",
        "    for batch_idx, (data, target) in enumerate(train_loader):\n",
        "        target = torch.sparse.torch.eye(10).index_select(dim=0, index=target)\n",
        "        data, target = data.to(DEVICE), target.to(DEVICE)\n",
        "        optimizer.zero_grad()\n",
        "        decoder,output = model(data)\n",
        "        loss1 = target*F.relu(0.9-output)**2 + 0.25*(1-target)*F.relu(output-0.1)**2\n",
        "        loss1 = loss1.sum(dim=1).mean()\n",
        "        loss2 = ((data-decoder)**2).mean()\n",
        "#         print(loss1.item(),loss2.item())\n",
        "        loss = loss1+0.01*loss2\n",
        "        loss.backward()\n",
        "        optimizer.step()\n",
        "#         break\n",
        "\n",
        "        if(batch_idx+1)%200 == 0:\n",
        "            \n",
        "            _,predict = model(x_test)\n",
        "            _,pred = torch.max(predict, 1)\n",
        "            y_true =y_test\n",
        "\n",
        "            acc = torch.mean((torch.tensor(pred == y_true,dtype=torch.float)))\n",
        "            if acc > pre_acc:\n",
        "                print(\"%f > %f ,save model\"%(acc,pre_acc))\n",
        "                torch.save(model.state_dict(), 'bestparams.pkl')\n",
        "                pre_acc = acc\n",
        "            print('Train Epoch: {} [{}/{} ({:.0f}%)]\\tLoss: {:.6f}\\tLoss1: {:.6f}\\tLoss2: {:.6f} \\t accuracy:{:.4f}'.format(\n",
        "                epoch, batch_idx * len(data), len(train_loader.dataset),\n",
        "                100. * batch_idx / len(train_loader),loss.item(),loss1.item(),loss2.item(),acc))\n",
        "\n"
      ],
      "execution_count": 13,
      "outputs": [
        {
          "output_type": "stream",
          "text": [
            "/usr/local/lib/python3.6/dist-packages/ipykernel_launcher.py:63: UserWarning: Implicit dimension choice for softmax has been deprecated. Change the call to include dim=X as an argument.\n",
            "/usr/local/lib/python3.6/dist-packages/ipykernel_launcher.py:25: UserWarning: To copy construct from a tensor, it is recommended to use sourceTensor.clone().detach() or sourceTensor.clone().detach().requires_grad_(True), rather than torch.tensor(sourceTensor).\n"
          ],
          "name": "stderr"
        },
        {
          "output_type": "stream",
          "text": [
            "0.970000 > 0.000000 ,save model\n",
            "Train Epoch: 0 [25472/60000 (42%)]\tLoss: 0.034848\tLoss1: 0.027614\tLoss2: 0.723394 \t accuracy:0.9700\n",
            "0.980000 > 0.970000 ,save model\n",
            "Train Epoch: 0 [51072/60000 (85%)]\tLoss: 0.011407\tLoss1: 0.004392\tLoss2: 0.701486 \t accuracy:0.9800\n",
            "0.984000 > 0.980000 ,save model\n",
            "Train Epoch: 1 [25472/60000 (42%)]\tLoss: 0.014602\tLoss1: 0.007774\tLoss2: 0.682779 \t accuracy:0.9840\n",
            "Train Epoch: 1 [51072/60000 (85%)]\tLoss: 0.014194\tLoss1: 0.007453\tLoss2: 0.674077 \t accuracy:0.9780\n",
            "Train Epoch: 2 [25472/60000 (42%)]\tLoss: 0.013002\tLoss1: 0.006464\tLoss2: 0.653852 \t accuracy:0.9840\n",
            "0.994000 > 0.984000 ,save model\n",
            "Train Epoch: 2 [51072/60000 (85%)]\tLoss: 0.009418\tLoss1: 0.002809\tLoss2: 0.660931 \t accuracy:0.9940\n"
          ],
          "name": "stdout"
        }
      ]
    },
    {
      "cell_type": "code",
      "metadata": {
        "id": "G440jWVbOxNq",
        "colab_type": "code",
        "colab": {}
      },
      "source": [
        "torch.save(model.state_dict(), 'params.pkl')"
      ],
      "execution_count": 0,
      "outputs": []
    },
    {
      "cell_type": "code",
      "metadata": {
        "id": "WQyWBkWoELzr",
        "colab_type": "code",
        "colab": {
          "base_uri": "https://localhost:8080/",
          "height": 290
        },
        "outputId": "47ff57f6-1adc-43f4-ea1b-b243a10f7e28"
      },
      "source": [
        "import os\n",
        "model = CapsuleNet()\n",
        "model.load_state_dict(torch.load('bestparams.pkl'))\n",
        "\n",
        "model.to(DEVICE)\n",
        "print(model)"
      ],
      "execution_count": 15,
      "outputs": [
        {
          "output_type": "stream",
          "text": [
            "CapsuleNet(\n",
            "  (conv1): Conv2d(1, 256, kernel_size=(9, 9), stride=(1, 1))\n",
            "  (conv2): Conv2d(256, 256, kernel_size=(9, 9), stride=(2, 2))\n",
            "  (capsule): Capsule()\n",
            "  (Decoder): Decoder(\n",
            "    (reconstraction_layers): Sequential(\n",
            "      (0): Linear(in_features=160, out_features=512, bias=True)\n",
            "      (1): ReLU(inplace)\n",
            "      (2): Linear(in_features=512, out_features=1024, bias=True)\n",
            "      (3): ReLU(inplace)\n",
            "      (4): Linear(in_features=1024, out_features=784, bias=True)\n",
            "      (5): Sigmoid()\n",
            "    )\n",
            "  )\n",
            ")\n"
          ],
          "name": "stdout"
        }
      ]
    },
    {
      "cell_type": "code",
      "metadata": {
        "id": "wrmXX9Ty8Z1W",
        "colab_type": "code",
        "outputId": "c62801cf-9bdd-4f87-f47f-7a09ae59567a",
        "colab": {
          "base_uri": "https://localhost:8080/",
          "height": 424
        }
      },
      "source": [
        "import matplotlib.pyplot as plt\n",
        "import random\n",
        "import numpy as np\n",
        "import time\n",
        "\n",
        "img_num = 7\n",
        "k = random.randint(10,100)\n",
        "\n",
        "imgs = x_test[k:img_num+k].cpu().numpy()\n",
        "label = y_test[k:img_num+k].cpu().numpy()\n",
        "pred_imgs,pred_label = model(x_test[k:img_num+k])\n",
        "pred_imgs = pred_imgs.cpu().detach().numpy()\n",
        "pred_label = pred_label.cpu().detach().numpy()\n",
        "pred_label = np.argmax(pred_label,1)\n",
        "\n",
        "plt.figure(\"test Image\",figsize=(img_num*3,3*2))\n",
        "for i in range(img_num):\n",
        "    index = i\n",
        "    img = imgs[index]\n",
        "    title = label[index]\n",
        "    img = img.reshape([28, 28])\n",
        "    \n",
        "    plt.subplot(2,img_num,i+1)\n",
        "    plt.imshow(img,cmap=plt.cm.gray)\n",
        "    plt.axis('off') \n",
        "    plt.title(title)\n",
        "    \n",
        "for i in range(img_num):\n",
        "    index = i\n",
        "    img = pred_imgs[index]\n",
        "    plt.subplot(2,img_num,i+img_num+1)\n",
        "    \n",
        "    title = pred_label[index]\n",
        "    img = img.reshape([28, 28])\n",
        "    plt.imshow(img,cmap=plt.cm.gray)\n",
        "    plt.axis('off') \n",
        "    plt.title(title)\n",
        "    \n",
        "filename = 'r1'+str(time.time())+'.jpg'\n",
        "plt.savefig(filename)\n",
        "plt.show()"
      ],
      "execution_count": 16,
      "outputs": [
        {
          "output_type": "stream",
          "text": [
            "/usr/local/lib/python3.6/dist-packages/ipykernel_launcher.py:63: UserWarning: Implicit dimension choice for softmax has been deprecated. Change the call to include dim=X as an argument.\n"
          ],
          "name": "stderr"
        },
        {
          "output_type": "display_data",
          "data": {
            "image/png": "[encoded data removed]",
            "text/plain": [
              "<Figure size 1512x432 with 14 Axes>"
            ]
          },
          "metadata": {
            "tags": []
          }
        }
      ]
    },
    {
      "cell_type": "code",
      "metadata": {
        "id": "jexXL2AahsE3",
        "colab_type": "code",
        "outputId": "5109b0ea-c910-4cd4-ff83-c24f26cb4812",
        "colab": {
          "base_uri": "https://localhost:8080/",
          "height": 465
        }
      },
      "source": [
        "import random\n",
        "k = random.randint(10,100)\n",
        "\n",
        "img_num = 6\n",
        "imgs = (torch.max(x_test[:img_num],x_test[k:img_num+k])).cpu().numpy()\n",
        "label1 = (y_test[:img_num]).cpu().numpy()\n",
        "label2 = (y_test[k:img_num+k]).cpu().numpy()\n",
        "\n",
        "data = torch.tensor(imgs,dtype=torch.float,device=DEVICE)\n",
        "\n",
        "is_over_lap = True\n",
        "pred_imgs,pred_label = model(data)\n",
        "is_over_lap = False\n",
        "\n",
        "\n",
        "pred_imgs = pred_imgs.cpu().detach().numpy()\n",
        "pred_label = pred_label.cpu().detach().numpy()\n",
        "pred_label = np.argsort(pred_label,1)[:,-2:]\n",
        "\n",
        "\n",
        "plt.figure(\"test Image\",figsize=(img_num*3,3*2))\n",
        "for i in range(img_num):\n",
        "    index = i\n",
        "    img = imgs[index]\n",
        "    title = str(label1[index])+\" \"+str(label2[index])\n",
        "    img = img.reshape([28, 28])\n",
        "    \n",
        "    plt.subplot(3,img_num,i+1)\n",
        "    plt.imshow(img,cmap=plt.cm.gray)\n",
        "    plt.axis('off') \n",
        "    plt.title(title)\n",
        "    \n",
        "for i in range(img_num):\n",
        "    index = i\n",
        "    img = pred_imgs[index]\n",
        "    \n",
        "    plt.subplot(3,img_num,i+img_num+1)\n",
        "    \n",
        "    title = pred_label[index]\n",
        "    img = img[0,:,:]\n",
        "    img = img.reshape([28, 28])\n",
        "    plt.imshow(img,cmap=plt.cm.gray)    \n",
        "    \n",
        "    plt.axis('off') \n",
        "    plt.title(title)\n",
        "\n",
        "for i in range(img_num):\n",
        "    index = i\n",
        "    img = pred_imgs[index]\n",
        "    \n",
        "    plt.subplot(3,img_num,i+2*img_num+1)\n",
        "    \n",
        "    title = pred_label[index]\n",
        "    img = img[1,:,:]\n",
        "    img = img.reshape([28, 28])\n",
        "    plt.imshow(img,cmap=plt.cm.gray)    \n",
        "    \n",
        "    plt.axis('off') \n",
        "    plt.title(title)\n",
        "    \n",
        "filename = 'r2'+str(time.time())+'.jpg'\n",
        "plt.savefig(filename)    \n",
        "plt.show()"
      ],
      "execution_count": 17,
      "outputs": [
        {
          "output_type": "stream",
          "text": [
            "/usr/local/lib/python3.6/dist-packages/ipykernel_launcher.py:63: UserWarning: Implicit dimension choice for softmax has been deprecated. Change the call to include dim=X as an argument.\n",
            "/usr/local/lib/python3.6/dist-packages/matplotlib/text.py:1191: FutureWarning: elementwise comparison failed; returning scalar instead, but in the future will perform elementwise comparison\n",
            "  if s != self._text:\n"
          ],
          "name": "stderr"
        },
        {
          "output_type": "display_data",
          "data": {
            "image/png": "[encoded data removed]",
            "text/plain": [
              "<Figure size 1296x432 with 18 Axes>"
            ]
          },
          "metadata": {
            "tags": []
          }
        }
      ]
    },
    {
      "cell_type": "code",
      "metadata": {
        "id": "j_XAjqROoB6j",
        "colab_type": "code",
        "colab": {}
      },
      "source": [
        ""
      ],
      "execution_count": 0,
      "outputs": []
    },
    {
      "cell_type": "code",
      "metadata": {
        "id": "1kj2RqFx1nCM",
        "colab_type": "code",
        "colab": {}
      },
      "source": [
        ""
      ],
      "execution_count": 0,
      "outputs": []
    }
  ]
}