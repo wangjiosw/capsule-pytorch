{
  "nbformat": 4,
  "nbformat_minor": 0,
  "metadata": {
    "colab": {
      "name": "Capsule Pytorch.ipynb",
      "version": "0.3.2",
      "provenance": [],
      "collapsed_sections": [],
      "toc_visible": true
    },
    "language_info": {
      "codemirror_mode": {
        "name": "ipython",
        "version": 3
      },
      "file_extension": ".py",
      "mimetype": "text/x-python",
      "name": "python",
      "nbconvert_exporter": "python",
      "pygments_lexer": "ipython3",
      "version": "3.6.8"
    },
    "kernelspec": {
      "name": "python3",
      "display_name": "Python 3"
    },
    "accelerator": "GPU"
  },
  "cells": [
    {
      "cell_type": "code",
      "metadata": {
        "id": "77gWhdAk8Z0_",
        "colab_type": "code",
        "colab": {}
      },
      "source": [
        "import torch\n",
        "import torch.nn as nn\n",
        "import torch.nn.functional as F\n",
        "import torch.optim as optim\n",
        "from torchvision import datasets, transforms\n",
        "from torch.nn.init import xavier_uniform_ as init\n",
        "from torch.autograd import Variable\n",
        "import numpy as np"
      ],
      "execution_count": 0,
      "outputs": []
    },
    {
      "cell_type": "markdown",
      "metadata": {
        "id": "4RubMgSs8Z1J",
        "colab_type": "text"
      },
      "source": [
        "# prepare data"
      ]
    },
    {
      "cell_type": "code",
      "metadata": {
        "id": "p6ntKBnW8Z1J",
        "colab_type": "code",
        "outputId": "3df40f80-8094-4d8d-fb56-b4bc1d836581",
        "colab": {
          "base_uri": "https://localhost:8080/",
          "height": 35
        }
      },
      "source": [
        "BATCH_SIZE=128\n",
        "EPOCHS=20\n",
        "DEVICE = torch.device(\"cuda\" if torch.cuda.is_available() else \"cpu\")\n",
        "DEVICE"
      ],
      "execution_count": 2,
      "outputs": [
        {
          "output_type": "execute_result",
          "data": {
            "text/plain": [
              "device(type='cuda')"
            ]
          },
          "metadata": {
            "tags": []
          },
          "execution_count": 2
        }
      ]
    },
    {
      "cell_type": "code",
      "metadata": {
        "id": "AS0ldjbc8Z1M",
        "colab_type": "code",
        "colab": {}
      },
      "source": [
        "train_loader = torch.utils.data.DataLoader(\n",
        "        datasets.MNIST('data', train=True, download=True, \n",
        "                       transform=transforms.Compose([\n",
        "                           transforms.ToTensor(),\n",
        "                           transforms.Normalize((0.1307,), (0.3081,))\n",
        "                       ])),\n",
        "        batch_size=BATCH_SIZE, shuffle=True)"
      ],
      "execution_count": 0,
      "outputs": []
    },
    {
      "cell_type": "code",
      "metadata": {
        "id": "PwGmQdt_8Z1O",
        "colab_type": "code",
        "colab": {}
      },
      "source": [
        "test_loader = torch.utils.data.DataLoader(\n",
        "        datasets.MNIST('data', train=False, transform=transforms.Compose([\n",
        "                           transforms.ToTensor(),\n",
        "                           transforms.Normalize((0.1307,), (0.3081,))\n",
        "                       ])),\n",
        "        batch_size=500, shuffle=True)"
      ],
      "execution_count": 0,
      "outputs": []
    },
    {
      "cell_type": "code",
      "metadata": {
        "id": "LT-93_sze85s",
        "colab_type": "code",
        "colab": {}
      },
      "source": [
        "test_iter = iter(test_loader)\n",
        "imgs,labels = next(test_iter)"
      ],
      "execution_count": 0,
      "outputs": []
    },
    {
      "cell_type": "code",
      "metadata": {
        "id": "htTReQjgiimg",
        "colab_type": "code",
        "outputId": "ab92c9dc-7294-480d-d63a-620df940588a",
        "colab": {
          "base_uri": "https://localhost:8080/",
          "height": 35
        }
      },
      "source": [
        "print(imgs.shape,labels.shape)"
      ],
      "execution_count": 6,
      "outputs": [
        {
          "output_type": "stream",
          "text": [
            "torch.Size([500, 1, 28, 28]) torch.Size([500])\n"
          ],
          "name": "stdout"
        }
      ]
    },
    {
      "cell_type": "code",
      "metadata": {
        "id": "LFqtb-Ajf1ug",
        "colab_type": "code",
        "outputId": "77dc2d7b-8dc0-4701-e20b-2ade33fd269a",
        "colab": {
          "base_uri": "https://localhost:8080/",
          "height": 128
        }
      },
      "source": [
        "x_test = torch.tensor(imgs[:500],device=DEVICE,dtype=torch.float)\n",
        "# x_test = x_test.view(x_test.size(0),1, x_test.size(1),x_test.size(2))\n",
        "y_test = torch.tensor(labels[:500],device=DEVICE,dtype=torch.long)\n",
        "\n",
        "\n",
        "print(x_test.shape, y_test.shape)"
      ],
      "execution_count": 7,
      "outputs": [
        {
          "output_type": "stream",
          "text": [
            "/usr/local/lib/python3.6/dist-packages/ipykernel_launcher.py:1: UserWarning: To copy construct from a tensor, it is recommended to use sourceTensor.clone().detach() or sourceTensor.clone().detach().requires_grad_(True), rather than torch.tensor(sourceTensor).\n",
            "  \"\"\"Entry point for launching an IPython kernel.\n"
          ],
          "name": "stderr"
        },
        {
          "output_type": "stream",
          "text": [
            "torch.Size([500, 1, 28, 28]) torch.Size([500])\n"
          ],
          "name": "stdout"
        },
        {
          "output_type": "stream",
          "text": [
            "/usr/local/lib/python3.6/dist-packages/ipykernel_launcher.py:3: UserWarning: To copy construct from a tensor, it is recommended to use sourceTensor.clone().detach() or sourceTensor.clone().detach().requires_grad_(True), rather than torch.tensor(sourceTensor).\n",
            "  This is separate from the ipykernel package so we can avoid doing imports until\n"
          ],
          "name": "stderr"
        }
      ]
    },
    {
      "cell_type": "markdown",
      "metadata": {
        "id": "oNiREwDe8Z1Q",
        "colab_type": "text"
      },
      "source": [
        "# Model"
      ]
    },
    {
      "cell_type": "code",
      "metadata": {
        "id": "V5MJV1tsSGbm",
        "colab_type": "code",
        "colab": {}
      },
      "source": [
        "epsilon = 0.00000001\n",
        "def squash(x):\n",
        "    # not concern batch_size, maybe rewrite\n",
        "    s_squared_norm = torch.sum(x*x,1,keepdim=True) + epsilon\n",
        "    scale = torch.sqrt(s_squared_norm)/(1. + s_squared_norm)\n",
        "    # out = (batch_size,1,10)*(batch_size,16,10) = (batch_size,16,10)\n",
        "    out = scale * x\n",
        "    return out"
      ],
      "execution_count": 0,
      "outputs": []
    },
    {
      "cell_type": "code",
      "metadata": {
        "id": "tzVC4dbZ8Z1R",
        "colab_type": "code",
        "colab": {}
      },
      "source": [
        "# A Capsule Implement with pytorch\n",
        "class Capsule(nn.Module):\n",
        "\n",
        "    def __init__(self, in_units,in_channels, num_capsule, dim_capsule, routings=3, **kwargs):\n",
        "        super(Capsule, self).__init__(**kwargs)\n",
        "        self.in_units = in_units\n",
        "        self.in_channels = in_channels\n",
        "        self.num_capsule = num_capsule\n",
        "        self.dim_capsule = dim_capsule\n",
        "        self.routings = routings\n",
        "        # (in_units,10,128,16)\n",
        "        self.W = nn.Parameter((torch.randn(self.in_units,self.num_capsule,self.in_channels, self.dim_capsule)))\n",
        "\n",
        "    def forward(self, u_vecs):\n",
        "        u_vecs = u_vecs.permute(0,2,1)\n",
        "        u_vecs = u_vecs.unsqueeze(2)\n",
        "        u_vecs = u_vecs.unsqueeze(2)\n",
        "\n",
        "        \n",
        "        # (batch_size,in_units,1,1,in_channels)*(in_units,10,in_channels,16) = (batch_size,in_units,10,1,16)\n",
        "        u_hat_vecs = torch.matmul(u_vecs,self.W)\n",
        "        # (batch_size,in_units,10,16)\n",
        "        u_hat_vecs = u_hat_vecs.permute(0,1,2,4,3).squeeze(4)\n",
        "        \n",
        "        # (batch_size,10,in_units,16)\n",
        "        u_hat_vecs2 = u_hat_vecs.permute(0,2,1,3)\n",
        "    \n",
        "        # (batch_size,10,1,in_units)\n",
        "        b = torch.zeros(u_hat_vecs.size(0),self.num_capsule,1,self.in_units,device=DEVICE)\n",
        "        for i in range(self.routings):\n",
        "            # (batch_size,10,1,in_units)\n",
        "            c = F.softmax(b,-1)\n",
        "            # s = (batch_size,10,1,in_units)*(batch_size,10,in_units,16) = (batch_size,10,1,16)\n",
        "            s = torch.matmul(c,u_hat_vecs2)\n",
        "            # (batch_size,16,10)\n",
        "            s = s.permute(0,3,1,2).squeeze(3)\n",
        "            # (batch_size,16,10)\n",
        "            v = squash(s)\n",
        "            # here\n",
        "            # (batch_size,10,16,1)\n",
        "            v = v.permute(0,2,1).unsqueeze(3)\n",
        "            # (batch_size,10,in_units,16)*(batch_size,10,16,1) = (batch_size,10,in_units,1)\n",
        "            sim = torch.matmul(u_hat_vecs2,v)\n",
        "            # (batch_size,10,1,in_units)\n",
        "            sim = sim.permute(0,1,3,2)\n",
        "            b = b+sim\n",
        "        # (batch_size,16,10)\n",
        "        return v.permute(0,2,1,3).squeeze(3)\n",
        "\n",
        "class Decoder(nn.Module):\n",
        "    def __init__(self):\n",
        "        super(Decoder, self).__init__()\n",
        "        \n",
        "        self.reconstraction_layers = nn.Sequential(\n",
        "            nn.Linear(16 * 10, 512),\n",
        "            nn.ReLU(inplace=True),\n",
        "            nn.Linear(512, 1024),\n",
        "            nn.ReLU(inplace=True),\n",
        "            nn.Linear(1024, 784),\n",
        "            nn.Sigmoid()\n",
        "        )\n",
        "        \n",
        "    def forward(self, x,label):\n",
        "        # x (batch_size,10,16)\n",
        "        # label (batch_size,10,1)\n",
        "        label = label.unsqueeze(2)\n",
        "\n",
        "        inp = label*x\n",
        "        inp = inp.view(x.size(0), -1)\n",
        "        reconstructions = self.reconstraction_layers(inp)\n",
        "        reconstructions = reconstructions.view(-1, 1, 28, 28)\n",
        "        \n",
        "        return reconstructions    \n",
        "    \n",
        "    \n",
        "class CapsuleNet(nn.Module):\n",
        "    def __init__(self):\n",
        "        super().__init__()\n",
        "        # 1,28x28\n",
        "        self.conv1=nn.Conv2d(1,256,9) \n",
        "        self.conv2=nn.Conv2d(256,32*8,9,2) \n",
        "        self.capsule = Capsule(1152,8, 10, 16)\n",
        "        self.Decoder = Decoder()\n",
        "   \n",
        "#         self.fc2 = nn.Linear(500,10)\n",
        "    def forward(self,x,label):\n",
        "        batch_size = x.size(0)\n",
        "        out = self.conv1(x)\n",
        "        out = F.relu(out)\n",
        "        out = self.conv2(out)\n",
        "        # (batch_size, 32*8, 6, 6)\n",
        "        out = F.relu(out)\n",
        "        out = out.view(batch_size,8,-1)\n",
        "        out = squash(out)\n",
        "\n",
        "        # (batch_size,8,1152)\n",
        "        out = out.view(out.size(0),out.size(1),-1)\n",
        "        # (batch_size,16,10)\n",
        "        out = self.capsule(out)\n",
        "        # (batch_size,10,16)\n",
        "        out = out.permute(0,2,1)\n",
        "        \n",
        "\n",
        "        \n",
        "        decoder = self.Decoder(out,label)\n",
        "\n",
        "        \n",
        "\n",
        "\n",
        "        return out,decoder"
      ],
      "execution_count": 0,
      "outputs": []
    },
    {
      "cell_type": "code",
      "metadata": {
        "id": "WU6uRB2f9pFE",
        "colab_type": "code",
        "outputId": "f678fc8a-28eb-4849-e18e-8ed0648a39e6",
        "colab": {
          "base_uri": "https://localhost:8080/",
          "height": 290
        }
      },
      "source": [
        "import os\n",
        "model = CapsuleNet()\n",
        "if os.path.exists('params.pkl'):\n",
        "    model.load_state_dict(torch.load('params.pkl'))\n",
        "    \n",
        "model.to(DEVICE)"
      ],
      "execution_count": 10,
      "outputs": [
        {
          "output_type": "execute_result",
          "data": {
            "text/plain": [
              "CapsuleNet(\n",
              "  (conv1): Conv2d(1, 256, kernel_size=(9, 9), stride=(1, 1))\n",
              "  (conv2): Conv2d(256, 256, kernel_size=(9, 9), stride=(2, 2))\n",
              "  (capsule): Capsule()\n",
              "  (Decoder): Decoder(\n",
              "    (reconstraction_layers): Sequential(\n",
              "      (0): Linear(in_features=160, out_features=512, bias=True)\n",
              "      (1): ReLU(inplace)\n",
              "      (2): Linear(in_features=512, out_features=1024, bias=True)\n",
              "      (3): ReLU(inplace)\n",
              "      (4): Linear(in_features=1024, out_features=784, bias=True)\n",
              "      (5): Sigmoid()\n",
              "    )\n",
              "  )\n",
              ")"
            ]
          },
          "metadata": {
            "tags": []
          },
          "execution_count": 10
        }
      ]
    },
    {
      "cell_type": "code",
      "metadata": {
        "id": "e7yBV9lN6I6C",
        "colab_type": "code",
        "outputId": "7bb12a9b-aeae-435c-b1f6-2800e669e25e",
        "colab": {
          "base_uri": "https://localhost:8080/",
          "height": 437
        }
      },
      "source": [
        "optimizer = optim.Adam(model.parameters())#,lr=0.000001)\n",
        "\n",
        "n_epoch = 7\n",
        "pre_acc = 0\n",
        "for epoch in range(n_epoch):\n",
        "    for batch_idx, (data, target) in enumerate(train_loader):\n",
        "        target = torch.sparse.torch.eye(10).index_select(dim=0, index=target)\n",
        "        data, target = data.to(DEVICE), target.to(DEVICE)\n",
        "        \n",
        "        optimizer.zero_grad()\n",
        "        \n",
        "        output,pred_img = model(data,target)\n",
        "        \n",
        "        # (batch_size,10)\n",
        "        output = torch.sqrt(torch.sum(output*output, 2))\n",
        "        loss1 = target*F.relu(0.9-output)**2 + 0.25*(1-target)*F.relu(output-0.1)**2\n",
        "        loss1 = loss1.sum(dim=1).mean()\n",
        "        loss2 = ((data-pred_img)**2).mean()\n",
        "        loss = loss1+0.001*loss2\n",
        "        loss.backward()\n",
        "\n",
        "        optimizer.step()\n",
        "\n",
        "        if(batch_idx)%200 == 0:\n",
        "            y_true = torch.sparse.torch.eye(10).index_select(dim=0, index=y_test.cpu().data)\n",
        "            y_true = y_true.cuda()\n",
        "            predict,_ = model(x_test,y_true)\n",
        "            predict = torch.sqrt(torch.sum(predict*predict, 2))\n",
        "            _,pred = torch.max(predict, 1)\n",
        "\n",
        "            acc = torch.mean((torch.tensor(pred == y_test,dtype=torch.float)))\n",
        "\n",
        "            print('Train Epoch: {} [{}/{} ({:.0f}%)]\\tLoss1: {:.6f} \\tLoss2: {:.6f} \\t accuracy:{:.4f}'.format(\n",
        "                epoch, batch_idx * len(data), len(train_loader.dataset),\n",
        "                100. * batch_idx / len(train_loader),loss1.item(),loss2.item(),acc))\n",
        "\n"
      ],
      "execution_count": 11,
      "outputs": [
        {
          "output_type": "stream",
          "text": [
            "/usr/local/lib/python3.6/dist-packages/ipykernel_launcher.py:31: UserWarning: To copy construct from a tensor, it is recommended to use sourceTensor.clone().detach() or sourceTensor.clone().detach().requires_grad_(True), rather than torch.tensor(sourceTensor).\n"
          ],
          "name": "stderr"
        },
        {
          "output_type": "stream",
          "text": [
            "Train Epoch: 0 [0/60000 (0%)]\tLoss1: 0.000023 \tLoss2: 0.593447 \t accuracy:0.9900\n",
            "Train Epoch: 0 [25600/60000 (43%)]\tLoss1: 0.000096 \tLoss2: 0.589601 \t accuracy:0.9900\n",
            "Train Epoch: 0 [51200/60000 (85%)]\tLoss1: 0.000009 \tLoss2: 0.605124 \t accuracy:0.9900\n",
            "Train Epoch: 1 [0/60000 (0%)]\tLoss1: 0.000009 \tLoss2: 0.597852 \t accuracy:0.9900\n",
            "Train Epoch: 1 [25600/60000 (43%)]\tLoss1: 0.000150 \tLoss2: 0.588539 \t accuracy:0.9860\n",
            "Train Epoch: 1 [51200/60000 (85%)]\tLoss1: 0.000004 \tLoss2: 0.584031 \t accuracy:0.9840\n",
            "Train Epoch: 2 [0/60000 (0%)]\tLoss1: 0.000156 \tLoss2: 0.584446 \t accuracy:0.9920\n",
            "Train Epoch: 2 [25600/60000 (43%)]\tLoss1: 0.000034 \tLoss2: 0.592409 \t accuracy:0.9920\n",
            "Train Epoch: 2 [51200/60000 (85%)]\tLoss1: 0.000876 \tLoss2: 0.576011 \t accuracy:0.9920\n",
            "Train Epoch: 3 [0/60000 (0%)]\tLoss1: 0.000003 \tLoss2: 0.592184 \t accuracy:0.9900\n",
            "Train Epoch: 3 [25600/60000 (43%)]\tLoss1: 0.000093 \tLoss2: 0.595661 \t accuracy:0.9900\n",
            "Train Epoch: 3 [51200/60000 (85%)]\tLoss1: 0.000029 \tLoss2: 0.592189 \t accuracy:0.9900\n",
            "Train Epoch: 4 [0/60000 (0%)]\tLoss1: 0.000174 \tLoss2: 0.613922 \t accuracy:0.9920\n",
            "Train Epoch: 4 [25600/60000 (43%)]\tLoss1: 0.000090 \tLoss2: 0.573417 \t accuracy:0.9880\n",
            "Train Epoch: 4 [51200/60000 (85%)]\tLoss1: 0.000105 \tLoss2: 0.600171 \t accuracy:0.9920\n",
            "Train Epoch: 5 [0/60000 (0%)]\tLoss1: 0.000064 \tLoss2: 0.594497 \t accuracy:0.9880\n",
            "Train Epoch: 5 [25600/60000 (43%)]\tLoss1: 0.000057 \tLoss2: 0.593109 \t accuracy:0.9920\n",
            "Train Epoch: 5 [51200/60000 (85%)]\tLoss1: 0.000135 \tLoss2: 0.615071 \t accuracy:0.9900\n",
            "Train Epoch: 6 [0/60000 (0%)]\tLoss1: 0.000000 \tLoss2: 0.580674 \t accuracy:0.9920\n",
            "Train Epoch: 6 [25600/60000 (43%)]\tLoss1: 0.000028 \tLoss2: 0.602454 \t accuracy:0.9880\n",
            "Train Epoch: 6 [51200/60000 (85%)]\tLoss1: 0.000046 \tLoss2: 0.560682 \t accuracy:0.9920\n"
          ],
          "name": "stdout"
        }
      ]
    },
    {
      "cell_type": "code",
      "metadata": {
        "id": "G440jWVbOxNq",
        "colab_type": "code",
        "colab": {}
      },
      "source": [
        "torch.save(model.state_dict(), 'params.pkl')"
      ],
      "execution_count": 0,
      "outputs": []
    },
    {
      "cell_type": "code",
      "metadata": {
        "id": "WQyWBkWoELzr",
        "colab_type": "code",
        "outputId": "64e08819-e0cc-4b4e-f4db-913b308e952f",
        "colab": {
          "base_uri": "https://localhost:8080/",
          "height": 290
        }
      },
      "source": [
        "import os\n",
        "model = CapsuleNet()\n",
        "model.load_state_dict(torch.load('params.pkl'))\n",
        "\n",
        "model.to(DEVICE)\n",
        "print(model)"
      ],
      "execution_count": 13,
      "outputs": [
        {
          "output_type": "stream",
          "text": [
            "CapsuleNet(\n",
            "  (conv1): Conv2d(1, 256, kernel_size=(9, 9), stride=(1, 1))\n",
            "  (conv2): Conv2d(256, 256, kernel_size=(9, 9), stride=(2, 2))\n",
            "  (capsule): Capsule()\n",
            "  (Decoder): Decoder(\n",
            "    (reconstraction_layers): Sequential(\n",
            "      (0): Linear(in_features=160, out_features=512, bias=True)\n",
            "      (1): ReLU(inplace)\n",
            "      (2): Linear(in_features=512, out_features=1024, bias=True)\n",
            "      (3): ReLU(inplace)\n",
            "      (4): Linear(in_features=1024, out_features=784, bias=True)\n",
            "      (5): Sigmoid()\n",
            "    )\n",
            "  )\n",
            ")\n"
          ],
          "name": "stdout"
        }
      ]
    },
    {
      "cell_type": "code",
      "metadata": {
        "id": "wrmXX9Ty8Z1W",
        "colab_type": "code",
        "outputId": "4da21b5e-4afa-4be4-c26e-54fcb001f461",
        "colab": {
          "base_uri": "https://localhost:8080/",
          "height": 385
        }
      },
      "source": [
        "import matplotlib.pyplot as plt\n",
        "import random\n",
        "import numpy as np\n",
        "import time\n",
        "\n",
        "img_num = 7\n",
        "k = random.randint(10,100)\n",
        "\n",
        "imgs = x_test[k:img_num+k].cpu().numpy()\n",
        "label = y_test[k:img_num+k].cpu().numpy()\n",
        "\n",
        "y_true = torch.sparse.torch.eye(10).index_select(dim=0, index=y_test[k:img_num+k].cpu().data)\n",
        "y_true = y_true.cuda()\n",
        "\n",
        "out,pred_imgs = model(x_test[k:img_num+k],y_true)\n",
        "pred_label = torch.sqrt(torch.sum(out*out, 2))\n",
        "\n",
        "pred_imgs = pred_imgs.cpu().detach().numpy()\n",
        "pred_label = pred_label.cpu().detach().numpy()\n",
        "pred_label = np.argmax(pred_label,1)\n",
        "\n",
        "plt.figure(\"test Image\",figsize=(img_num*3,3*2))\n",
        "for i in range(img_num):\n",
        "    index = i\n",
        "    img = imgs[index]\n",
        "    title = label[index]\n",
        "    img = img.reshape([28, 28])\n",
        "    \n",
        "    plt.subplot(2,img_num,i+1)\n",
        "    plt.imshow(img,cmap=plt.cm.gray)\n",
        "    plt.axis('off') \n",
        "    plt.title(title)\n",
        "    \n",
        "for i in range(img_num):\n",
        "    index = i\n",
        "    img = pred_imgs[index]\n",
        "    plt.subplot(2,img_num,i+img_num+1)\n",
        "    \n",
        "    title = pred_label[index]\n",
        "    img = img.reshape([28, 28])\n",
        "    plt.imshow(img,cmap=plt.cm.gray)\n",
        "    plt.axis('off') \n",
        "    plt.title(title)\n",
        "    \n",
        "filename = 'r1'+str(time.time())+'.jpg'\n",
        "plt.savefig(filename)\n",
        "plt.show()"
      ],
      "execution_count": 14,
      "outputs": [
        {
          "output_type": "display_data",
          "data": {
            "image/png": "[encoded data removed]",
            "text/plain": [
              "<Figure size 1512x432 with 14 Axes>"
            ]
          },
          "metadata": {
            "tags": []
          }
        }
      ]
    },
    {
      "cell_type": "code",
      "metadata": {
        "id": "jexXL2AahsE3",
        "colab_type": "code",
        "outputId": "765bdfec-5f60-476c-e8a5-6105dcffe3a1",
        "colab": {
          "base_uri": "https://localhost:8080/",
          "height": 670
        }
      },
      "source": [
        "import random\n",
        "k = random.randint(10,100)\n",
        "\n",
        "img_num = 6\n",
        "imgs = (torch.max(x_test[:img_num],x_test[k:img_num+k])).cpu().numpy()\n",
        "\n",
        "label1 = (y_test[:img_num]).cpu().numpy()\n",
        "label2 = (y_test[k:img_num+k]).cpu().numpy()\n",
        "\n",
        "y_true1 = torch.sparse.torch.eye(10).index_select(dim=0, index=y_test[:img_num].cpu().data)\n",
        "y_true1 = y_true1.cuda()\n",
        "\n",
        "y_true2 = torch.sparse.torch.eye(10).index_select(dim=0, index=y_test[k:img_num+k].cpu().data)\n",
        "y_true2 = y_true2.cuda()\n",
        "\n",
        "data = torch.tensor(imgs,dtype=torch.float,device=DEVICE)\n",
        "\n",
        "is_overlap = True\n",
        "out1,pred_imgs1 = model(data,y_true1)\n",
        "out2,pred_imgs2 = model(data,y_true2)\n",
        "is_overlap = False\n",
        "\n",
        "pred_label1 = torch.sqrt(torch.sum(out1*out1, 2))\n",
        "pred_label2 = pred_label1\n",
        "\n",
        "\n",
        "pred_imgs1 = pred_imgs1.cpu().detach().numpy()\n",
        "pred_imgs2 = pred_imgs2.cpu().detach().numpy()\n",
        "\n",
        "pred_label1 = pred_label1.cpu().detach().numpy()\n",
        "pred_label2 = pred_label2.cpu().detach().numpy()\n",
        "\n",
        "pred_label1 = np.argsort(pred_label1,1)[:,-1]\n",
        "pred_label2 =np.argsort(pred_label2,1)[:,-2]\n",
        "\n",
        "pred_imgs3 = np.zeros_like(pred_imgs1)\n",
        "\n",
        "pred_imgs = np.stack((pred_imgs1,pred_imgs2,pred_imgs3),1)\n",
        "pred_imgs = pred_imgs.transpose(0,3,4,1,2).squeeze(4)\n",
        "\n",
        "\n",
        "plt.figure(\"test Image\",figsize=(img_num*2,6*2))\n",
        "for i in range(img_num):\n",
        "    index = i\n",
        "    img = imgs[index]\n",
        "    title = str(label1[index])+\" \"+str(label2[index])\n",
        "    img = img.reshape([28, 28])\n",
        "    \n",
        "    plt.subplot(4,img_num,i+1)\n",
        "    plt.imshow(img,cmap=plt.cm.gray)\n",
        "    plt.axis('off') \n",
        "    plt.title(title)\n",
        "    \n",
        "for i in range(img_num):\n",
        "    index = i\n",
        "    \n",
        "    plt.subplot(4,img_num,i+img_num+1)\n",
        "    title = str(pred_label1[index])+\" \"+str(pred_label2[index])\n",
        "    \n",
        "    img = pred_imgs[index]\n",
        "    plt.imshow(img)\n",
        "    plt.axis('off') \n",
        "    plt.title(title)\n",
        "    \n",
        "    img1 = pred_imgs1[index]\n",
        "    img1 = img1.reshape([28, 28])    \n",
        "    plt.subplot(4,img_num,i+2*img_num+1)\n",
        "    plt.imshow(img1,cmap=plt.cm.gray)\n",
        "    plt.axis('off') \n",
        "    plt.title(title)\n",
        "    \n",
        "    img2 = pred_imgs2[index]\n",
        "    img2 = img2.reshape([28, 28])    \n",
        "    plt.subplot(4,img_num,i+3*img_num+1)\n",
        "    plt.imshow(img2,cmap=plt.cm.gray)\n",
        "    plt.axis('off') \n",
        "    plt.title(title)\n",
        "\n",
        "\n",
        "    \n",
        "filename = 'r2'+str(time.time())+'.jpg'\n",
        "plt.savefig(filename)    \n",
        "plt.show()"
      ],
      "execution_count": 21,
      "outputs": [
        {
          "output_type": "display_data",
          "data": {
            "image/png": "[encoded data removed]",
            "text/plain": [
              "<Figure size 864x864 with 24 Axes>"
            ]
          },
          "metadata": {
            "tags": []
          }
        }
      ]
    },
    {
      "cell_type": "code",
      "metadata": {
        "id": "j_XAjqROoB6j",
        "colab_type": "code",
        "colab": {}
      },
      "source": [
        ""
      ],
      "execution_count": 0,
      "outputs": []
    },
    {
      "cell_type": "code",
      "metadata": {
        "id": "1kj2RqFx1nCM",
        "colab_type": "code",
        "colab": {}
      },
      "source": [
        ""
      ],
      "execution_count": 0,
      "outputs": []
    }
  ]
}