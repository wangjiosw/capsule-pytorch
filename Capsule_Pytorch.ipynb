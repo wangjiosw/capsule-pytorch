{
  "nbformat": 4,
  "nbformat_minor": 0,
  "metadata": {
    "colab": {
      "name": "Capsule Pytorch.ipynb",
      "version": "0.3.2",
      "provenance": [],
      "collapsed_sections": []
    },
    "language_info": {
      "codemirror_mode": {
        "name": "ipython",
        "version": 3
      },
      "file_extension": ".py",
      "mimetype": "text/x-python",
      "name": "python",
      "nbconvert_exporter": "python",
      "pygments_lexer": "ipython3",
      "version": "3.6.8"
    },
    "kernelspec": {
      "name": "python3",
      "display_name": "Python 3"
    },
    "accelerator": "GPU"
  },
  "cells": [
    {
      "cell_type": "code",
      "metadata": {
        "id": "77gWhdAk8Z0_",
        "colab_type": "code",
        "colab": {}
      },
      "source": [
        "import torch\n",
        "import torch.nn as nn\n",
        "import torch.nn.functional as F\n",
        "import torch.optim as optim\n",
        "from torchvision import datasets, transforms\n",
        "from torch.nn.init import xavier_uniform_ as init\n",
        "from torch.autograd import Variable\n",
        "import numpy as np"
      ],
      "execution_count": 0,
      "outputs": []
    },
    {
      "cell_type": "markdown",
      "metadata": {
        "id": "4RubMgSs8Z1J",
        "colab_type": "text"
      },
      "source": [
        "# 加载mnist数据集"
      ]
    },
    {
      "cell_type": "code",
      "metadata": {
        "id": "p6ntKBnW8Z1J",
        "colab_type": "code",
        "outputId": "4283d776-6b4f-4055-f63a-d682cc2bbef6",
        "colab": {
          "base_uri": "https://localhost:8080/",
          "height": 35
        }
      },
      "source": [
        "BATCH_SIZE=128\n",
        "EPOCHS=20\n",
        "DEVICE = torch.device(\"cuda\" if torch.cuda.is_available() else \"cpu\")\n",
        "DEVICE"
      ],
      "execution_count": 2,
      "outputs": [
        {
          "output_type": "execute_result",
          "data": {
            "text/plain": [
              "device(type='cuda')"
            ]
          },
          "metadata": {
            "tags": []
          },
          "execution_count": 2
        }
      ]
    },
    {
      "cell_type": "code",
      "metadata": {
        "id": "AS0ldjbc8Z1M",
        "colab_type": "code",
        "colab": {}
      },
      "source": [
        "train_loader = torch.utils.data.DataLoader(\n",
        "        datasets.MNIST('data', train=True, download=True, \n",
        "                       transform=transforms.Compose([\n",
        "                           transforms.ToTensor(),\n",
        "                           transforms.Normalize((0.1307,), (0.3081,))\n",
        "                       ])),\n",
        "        batch_size=BATCH_SIZE, shuffle=True)"
      ],
      "execution_count": 0,
      "outputs": []
    },
    {
      "cell_type": "code",
      "metadata": {
        "id": "PwGmQdt_8Z1O",
        "colab_type": "code",
        "colab": {}
      },
      "source": [
        "test_loader = torch.utils.data.DataLoader(\n",
        "        datasets.MNIST('data', train=False, transform=transforms.Compose([\n",
        "                           transforms.ToTensor(),\n",
        "                           transforms.Normalize((0.1307,), (0.3081,))\n",
        "                       ])),\n",
        "        batch_size=BATCH_SIZE, shuffle=True)"
      ],
      "execution_count": 0,
      "outputs": []
    },
    {
      "cell_type": "code",
      "metadata": {
        "id": "LT-93_sze85s",
        "colab_type": "code",
        "colab": {}
      },
      "source": [
        "test_iter = iter(test_loader)\n",
        "imgs,labels = next(test_iter)"
      ],
      "execution_count": 0,
      "outputs": []
    },
    {
      "cell_type": "code",
      "metadata": {
        "id": "htTReQjgiimg",
        "colab_type": "code",
        "outputId": "d16eb9dc-470e-4354-f9b6-96d14854dc75",
        "colab": {
          "base_uri": "https://localhost:8080/",
          "height": 35
        }
      },
      "source": [
        "print(imgs.shape,labels.shape)"
      ],
      "execution_count": 6,
      "outputs": [
        {
          "output_type": "stream",
          "text": [
            "torch.Size([128, 1, 28, 28]) torch.Size([128])\n"
          ],
          "name": "stdout"
        }
      ]
    },
    {
      "cell_type": "code",
      "metadata": {
        "id": "LFqtb-Ajf1ug",
        "colab_type": "code",
        "outputId": "b593187c-befb-4979-f773-1a3c36a1dcdb",
        "colab": {
          "base_uri": "https://localhost:8080/",
          "height": 128
        }
      },
      "source": [
        "x_test = torch.tensor(imgs[:500],device=DEVICE,dtype=torch.float)\n",
        "# x_test = x_test.view(x_test.size(0),1, x_test.size(1),x_test.size(2))\n",
        "y_test = torch.tensor(labels[:500],device=DEVICE,dtype=torch.long)\n",
        "\n",
        "\n",
        "print(x_test.shape, y_test.shape)"
      ],
      "execution_count": 7,
      "outputs": [
        {
          "output_type": "stream",
          "text": [
            "/usr/local/lib/python3.6/dist-packages/ipykernel_launcher.py:1: UserWarning: To copy construct from a tensor, it is recommended to use sourceTensor.clone().detach() or sourceTensor.clone().detach().requires_grad_(True), rather than torch.tensor(sourceTensor).\n",
            "  \"\"\"Entry point for launching an IPython kernel.\n"
          ],
          "name": "stderr"
        },
        {
          "output_type": "stream",
          "text": [
            "torch.Size([128, 1, 28, 28]) torch.Size([128])\n"
          ],
          "name": "stdout"
        },
        {
          "output_type": "stream",
          "text": [
            "/usr/local/lib/python3.6/dist-packages/ipykernel_launcher.py:3: UserWarning: To copy construct from a tensor, it is recommended to use sourceTensor.clone().detach() or sourceTensor.clone().detach().requires_grad_(True), rather than torch.tensor(sourceTensor).\n",
            "  This is separate from the ipykernel package so we can avoid doing imports until\n"
          ],
          "name": "stderr"
        }
      ]
    },
    {
      "cell_type": "markdown",
      "metadata": {
        "id": "oNiREwDe8Z1Q",
        "colab_type": "text"
      },
      "source": [
        "# 定义模型"
      ]
    },
    {
      "cell_type": "markdown",
      "metadata": {
        "id": "8Bw0racHaM68",
        "colab_type": "text"
      },
      "source": [
        "## aquash 函数"
      ]
    },
    {
      "cell_type": "code",
      "metadata": {
        "id": "V5MJV1tsSGbm",
        "colab_type": "code",
        "colab": {}
      },
      "source": [
        "epsilon = 0.00000001\n",
        "def squash(x):\n",
        "    # not concern batch_size, maybe rewrite\n",
        "    s_squared_norm = torch.sum(x*x,1,keepdim=True) + epsilon\n",
        "    scale = torch.sqrt(s_squared_norm)/(1. + s_squared_norm)\n",
        "    # out = (batch_size,1,10)*(batch_size,16,10) = (batch_size,16,10)\n",
        "    out = scale * x\n",
        "    return out"
      ],
      "execution_count": 0,
      "outputs": []
    },
    {
      "cell_type": "markdown",
      "metadata": {
        "id": "5nO6TgtFah8B",
        "colab_type": "text"
      },
      "source": [
        "## Capsule"
      ]
    },
    {
      "cell_type": "code",
      "metadata": {
        "id": "lrC0IM4tahUA",
        "colab_type": "code",
        "colab": {}
      },
      "source": [
        "class Capsule(nn.Module):\n",
        "\n",
        "    def __init__(self, in_units,in_channels, num_capsule, dim_capsule, routings=3, **kwargs):\n",
        "        super(Capsule, self).__init__(**kwargs)\n",
        "        self.in_units = in_units\n",
        "        self.in_channels = in_channels\n",
        "        self.num_capsule = num_capsule\n",
        "        self.dim_capsule = dim_capsule\n",
        "        self.routings = routings\n",
        "        # (in_units,10,128,16)\n",
        "        self.W = nn.Parameter((torch.randn(self.in_units,self.num_capsule,self.in_channels, self.dim_capsule)))\n",
        "\n",
        "    def forward(self, u_vecs):\n",
        "        u_vecs = u_vecs.permute(0,2,1)\n",
        "        u_vecs = u_vecs.unsqueeze(2)\n",
        "        u_vecs = u_vecs.unsqueeze(2)\n",
        "\n",
        "        \n",
        "        # (batch_size,in_units,1,1,in_channels)*(in_units,10,in_channels,16) = (batch_size,in_units,10,1,16)\n",
        "        u_hat_vecs = torch.matmul(u_vecs,self.W)\n",
        "        # (batch_size,in_units,10,16)\n",
        "        u_hat_vecs = u_hat_vecs.permute(0,1,2,4,3).squeeze(4)\n",
        "        \n",
        "        # (batch_size,10,in_units,16)\n",
        "        u_hat_vecs2 = u_hat_vecs.permute(0,2,1,3)\n",
        "    \n",
        "        # (batch_size,10,1,in_units)\n",
        "        b = torch.zeros(u_hat_vecs.size(0),self.num_capsule,1,self.in_units,device=DEVICE)\n",
        "        for i in range(self.routings):\n",
        "            # (batch_size,10,1,in_units)\n",
        "            c = F.softmax(b,-1)\n",
        "            # s = (batch_size,10,1,in_units)*(batch_size,10,in_units,16) = (batch_size,10,1,16)\n",
        "            s = torch.matmul(c,u_hat_vecs2)\n",
        "            # (batch_size,16,10)\n",
        "            s = s.permute(0,3,1,2).squeeze(3)\n",
        "            # (batch_size,16,10)\n",
        "            v = squash(s)\n",
        "            # here\n",
        "            # (batch_size,10,16,1)\n",
        "            v = v.permute(0,2,1).unsqueeze(3)\n",
        "            # (batch_size,10,in_units,16)*(batch_size,10,16,1) = (batch_size,10,in_units,1)\n",
        "            sim = torch.matmul(u_hat_vecs2,v)\n",
        "            # (batch_size,10,1,in_units)\n",
        "            sim = sim.permute(0,1,3,2)\n",
        "            b = b+sim\n",
        "        # (batch_size,16,10)\n",
        "        return v.permute(0,2,1,3).squeeze(3)"
      ],
      "execution_count": 0,
      "outputs": []
    },
    {
      "cell_type": "markdown",
      "metadata": {
        "id": "UFWNqnKYapTc",
        "colab_type": "text"
      },
      "source": [
        "## Dcoder（重构模型）"
      ]
    },
    {
      "cell_type": "code",
      "metadata": {
        "id": "NSUYV_HtapwQ",
        "colab_type": "code",
        "colab": {}
      },
      "source": [
        "# is_overlap = False\n",
        "class Decoder(nn.Module):\n",
        "    def __init__(self):\n",
        "        super(Decoder, self).__init__()\n",
        "        \n",
        "        self.reconstraction_layers = nn.Sequential(\n",
        "            nn.Linear(16 * 10, 512),\n",
        "            nn.ReLU(inplace=True),\n",
        "            nn.Linear(512, 1024),\n",
        "            nn.ReLU(inplace=True),\n",
        "            nn.Linear(1024, 784),\n",
        "            nn.Sigmoid()\n",
        "        )\n",
        "        \n",
        "    def forward(self, x,label):\n",
        "        # x (batch_size,10,16)\n",
        "        # mask (batch_size,10,1)\n",
        "        mask = label.unsqueeze(2)\n",
        "\n",
        "        inp = mask*x\n",
        "        inp = inp.view(x.size(0), -1)\n",
        "        reconstructions = self.reconstraction_layers(inp)\n",
        "        reconstructions = reconstructions.view(-1, 1, 28, 28)\n",
        "        \n",
        "        return reconstructions    "
      ],
      "execution_count": 0,
      "outputs": []
    },
    {
      "cell_type": "markdown",
      "metadata": {
        "id": "89fn6iiga02f",
        "colab_type": "text"
      },
      "source": [
        "# CapsuleNet"
      ]
    },
    {
      "cell_type": "code",
      "metadata": {
        "id": "tzVC4dbZ8Z1R",
        "colab_type": "code",
        "colab": {}
      },
      "source": [
        "\n",
        "class CapsuleNet(nn.Module):\n",
        "    def __init__(self):\n",
        "        super().__init__()\n",
        "        # 1,28x28\n",
        "        self.conv1=nn.Conv2d(1,256,9) \n",
        "        self.conv2=nn.Conv2d(256,32*8,9,2) \n",
        "        self.capsule = Capsule(1152,8, 10, 16)\n",
        "        self.Decoder = Decoder()\n",
        "   \n",
        "    def forward(self,x,label):\n",
        "        batch_size = x.size(0)\n",
        "        # Conv1\n",
        "        out = self.conv1(x)\n",
        "        out = F.relu(out)\n",
        "        # PrimaryCaps\n",
        "        out = self.conv2(out)\n",
        "        # (batch_size, 32*8, 6, 6)\n",
        "        out = F.relu(out)\n",
        "        out = out.view(batch_size,8,-1)\n",
        "        out = squash(out)\n",
        "        # (batch_size,8,1152)\n",
        "        out = out.view(out.size(0),out.size(1),-1)\n",
        "        # Capsule\n",
        "        # (batch_size,16,10)\n",
        "        out = self.capsule(out)\n",
        "        # (batch_size,10,16)\n",
        "        out = out.permute(0,2,1)\n",
        "        # Decoder\n",
        "        decoder = self.Decoder(out,label)\n",
        "\n",
        "        \n",
        "\n",
        "\n",
        "        return out,decoder"
      ],
      "execution_count": 0,
      "outputs": []
    },
    {
      "cell_type": "markdown",
      "metadata": {
        "id": "56-Et_H_YM17",
        "colab_type": "text"
      },
      "source": [
        "# train\n",
        "已有训练好的参数，可跳过，直接执行后面的重构"
      ]
    },
    {
      "cell_type": "code",
      "metadata": {
        "id": "WU6uRB2f9pFE",
        "colab_type": "code",
        "outputId": "5684f7a2-cdf9-4afd-849d-23ed988e74ba",
        "colab": {
          "base_uri": "https://localhost:8080/",
          "height": 290
        }
      },
      "source": [
        "import os\n",
        "model = CapsuleNet()\n",
        "if os.path.exists('params.pkl'):\n",
        "    model.load_state_dict(torch.load('params.pkl'))\n",
        "    \n",
        "model.to(DEVICE)"
      ],
      "execution_count": 12,
      "outputs": [
        {
          "output_type": "execute_result",
          "data": {
            "text/plain": [
              "CapsuleNet(\n",
              "  (conv1): Conv2d(1, 256, kernel_size=(9, 9), stride=(1, 1))\n",
              "  (conv2): Conv2d(256, 256, kernel_size=(9, 9), stride=(2, 2))\n",
              "  (capsule): Capsule()\n",
              "  (Decoder): Decoder(\n",
              "    (reconstraction_layers): Sequential(\n",
              "      (0): Linear(in_features=160, out_features=512, bias=True)\n",
              "      (1): ReLU(inplace)\n",
              "      (2): Linear(in_features=512, out_features=1024, bias=True)\n",
              "      (3): ReLU(inplace)\n",
              "      (4): Linear(in_features=1024, out_features=784, bias=True)\n",
              "      (5): Sigmoid()\n",
              "    )\n",
              "  )\n",
              ")"
            ]
          },
          "metadata": {
            "tags": []
          },
          "execution_count": 12
        }
      ]
    },
    {
      "cell_type": "code",
      "metadata": {
        "id": "e7yBV9lN6I6C",
        "colab_type": "code",
        "outputId": "7ba3897e-d2a6-41cd-8358-9ee0b53cf4d4",
        "colab": {
          "base_uri": "https://localhost:8080/",
          "height": 2783
        }
      },
      "source": [
        "optimizer = optim.Adam(model.parameters())#, lr=0.000001)\n",
        "\n",
        "n_epoch = 30\n",
        "pre_acc = 0\n",
        "for epoch in range(n_epoch):\n",
        "    for batch_idx, (data, target) in enumerate(train_loader):\n",
        "        target = torch.sparse.torch.eye(10).index_select(dim=0, index=target)\n",
        "        data, target = data.to(DEVICE), target.to(DEVICE)\n",
        "        \n",
        "        optimizer.zero_grad()\n",
        "        \n",
        "        output,pred_img = model(data,target)\n",
        "        \n",
        "        # (batch_size,10)\n",
        "        output = torch.sqrt(torch.sum(output*output, 2))\n",
        "        loss1 = target*F.relu(0.9-output)**2 + 0.25*(1-target)*F.relu(output-0.1)**2\n",
        "        loss1 = loss1.sum(dim=1).mean()\n",
        "        loss2 = ((data-pred_img)**2).mean()\n",
        "        loss = loss1+0.0005*loss2\n",
        "        loss.backward()\n",
        "\n",
        "        optimizer.step()\n",
        "\n",
        "        if(batch_idx)%100 == 0:\n",
        "            y_true = torch.sparse.torch.eye(10).index_select(dim=0, index=y_test.cpu().data)\n",
        "            y_true = y_true.to(DEVICE)\n",
        "            predict,_ = model(x_test,y_true)\n",
        "            predict = torch.sqrt(torch.sum(predict*predict, 2))\n",
        "            _,pred = torch.max(predict, 1)\n",
        "\n",
        "            acc = torch.mean((torch.tensor(pred == y_test,dtype=torch.float)))\n",
        "\n",
        "            print('Train Epoch: {} [{}/{} ({:.0f}%)]\\tLoss1: {:.6f} \\tLoss2: {:.6f} \\t test accuracy:{:.4f}'.format(\n",
        "                epoch, batch_idx * len(data), len(train_loader.dataset),\n",
        "                100. * batch_idx / len(train_loader),loss1.item(),loss2.item(),acc))\n",
        "\n"
      ],
      "execution_count": 13,
      "outputs": [
        {
          "output_type": "stream",
          "text": [
            "/usr/local/lib/python3.6/dist-packages/ipykernel_launcher.py:31: UserWarning: To copy construct from a tensor, it is recommended to use sourceTensor.clone().detach() or sourceTensor.clone().detach().requires_grad_(True), rather than torch.tensor(sourceTensor).\n"
          ],
          "name": "stderr"
        },
        {
          "output_type": "stream",
          "text": [
            "Train Epoch: 0 [0/60000 (0%)]\tLoss1: 0.807812 \tLoss2: 1.229976 \t test accuracy:0.2734\n",
            "Train Epoch: 0 [12800/60000 (21%)]\tLoss1: 0.050368 \tLoss2: 0.798234 \t test accuracy:0.9531\n",
            "Train Epoch: 0 [25600/60000 (43%)]\tLoss1: 0.027365 \tLoss2: 0.794739 \t test accuracy:0.9844\n",
            "Train Epoch: 0 [38400/60000 (64%)]\tLoss1: 0.028302 \tLoss2: 0.755641 \t test accuracy:0.9922\n",
            "Train Epoch: 0 [51200/60000 (85%)]\tLoss1: 0.015003 \tLoss2: 0.716659 \t test accuracy:0.9922\n",
            "Train Epoch: 1 [0/60000 (0%)]\tLoss1: 0.010347 \tLoss2: 0.735337 \t test accuracy:0.9922\n",
            "Train Epoch: 1 [12800/60000 (21%)]\tLoss1: 0.007604 \tLoss2: 0.706147 \t test accuracy:0.9922\n",
            "Train Epoch: 1 [25600/60000 (43%)]\tLoss1: 0.023455 \tLoss2: 0.730091 \t test accuracy:0.9922\n",
            "Train Epoch: 1 [38400/60000 (64%)]\tLoss1: 0.009346 \tLoss2: 0.727677 \t test accuracy:0.9922\n",
            "Train Epoch: 1 [51200/60000 (85%)]\tLoss1: 0.005641 \tLoss2: 0.709103 \t test accuracy:1.0000\n",
            "Train Epoch: 2 [0/60000 (0%)]\tLoss1: 0.007930 \tLoss2: 0.733506 \t test accuracy:1.0000\n",
            "Train Epoch: 2 [12800/60000 (21%)]\tLoss1: 0.008013 \tLoss2: 0.708626 \t test accuracy:1.0000\n",
            "Train Epoch: 2 [25600/60000 (43%)]\tLoss1: 0.016147 \tLoss2: 0.733692 \t test accuracy:1.0000\n",
            "Train Epoch: 2 [38400/60000 (64%)]\tLoss1: 0.001661 \tLoss2: 0.722146 \t test accuracy:0.9922\n",
            "Train Epoch: 2 [51200/60000 (85%)]\tLoss1: 0.011580 \tLoss2: 0.692510 \t test accuracy:0.9922\n",
            "Train Epoch: 3 [0/60000 (0%)]\tLoss1: 0.009999 \tLoss2: 0.709514 \t test accuracy:1.0000\n",
            "Train Epoch: 3 [12800/60000 (21%)]\tLoss1: 0.002652 \tLoss2: 0.702732 \t test accuracy:1.0000\n",
            "Train Epoch: 3 [25600/60000 (43%)]\tLoss1: 0.001338 \tLoss2: 0.706783 \t test accuracy:0.9922\n",
            "Train Epoch: 3 [38400/60000 (64%)]\tLoss1: 0.004722 \tLoss2: 0.728133 \t test accuracy:1.0000\n",
            "Train Epoch: 3 [51200/60000 (85%)]\tLoss1: 0.003314 \tLoss2: 0.745347 \t test accuracy:1.0000\n",
            "Train Epoch: 4 [0/60000 (0%)]\tLoss1: 0.001176 \tLoss2: 0.725600 \t test accuracy:1.0000\n",
            "Train Epoch: 4 [12800/60000 (21%)]\tLoss1: 0.001371 \tLoss2: 0.724005 \t test accuracy:1.0000\n",
            "Train Epoch: 4 [25600/60000 (43%)]\tLoss1: 0.009000 \tLoss2: 0.729991 \t test accuracy:1.0000\n",
            "Train Epoch: 4 [38400/60000 (64%)]\tLoss1: 0.002560 \tLoss2: 0.740359 \t test accuracy:1.0000\n",
            "Train Epoch: 4 [51200/60000 (85%)]\tLoss1: 0.005670 \tLoss2: 0.717222 \t test accuracy:1.0000\n",
            "Train Epoch: 5 [0/60000 (0%)]\tLoss1: 0.002915 \tLoss2: 0.708905 \t test accuracy:1.0000\n",
            "Train Epoch: 5 [12800/60000 (21%)]\tLoss1: 0.004790 \tLoss2: 0.715563 \t test accuracy:1.0000\n",
            "Train Epoch: 5 [25600/60000 (43%)]\tLoss1: 0.000818 \tLoss2: 0.681266 \t test accuracy:1.0000\n",
            "Train Epoch: 5 [38400/60000 (64%)]\tLoss1: 0.003985 \tLoss2: 0.702296 \t test accuracy:1.0000\n",
            "Train Epoch: 5 [51200/60000 (85%)]\tLoss1: 0.001069 \tLoss2: 0.696817 \t test accuracy:1.0000\n",
            "Train Epoch: 6 [0/60000 (0%)]\tLoss1: 0.000289 \tLoss2: 0.713961 \t test accuracy:1.0000\n",
            "Train Epoch: 6 [12800/60000 (21%)]\tLoss1: 0.000468 \tLoss2: 0.715397 \t test accuracy:1.0000\n",
            "Train Epoch: 6 [25600/60000 (43%)]\tLoss1: 0.000888 \tLoss2: 0.714441 \t test accuracy:1.0000\n",
            "Train Epoch: 6 [38400/60000 (64%)]\tLoss1: 0.003041 \tLoss2: 0.719686 \t test accuracy:1.0000\n",
            "Train Epoch: 6 [51200/60000 (85%)]\tLoss1: 0.001312 \tLoss2: 0.723361 \t test accuracy:1.0000\n",
            "Train Epoch: 7 [0/60000 (0%)]\tLoss1: 0.002312 \tLoss2: 0.716397 \t test accuracy:1.0000\n",
            "Train Epoch: 7 [12800/60000 (21%)]\tLoss1: 0.002540 \tLoss2: 0.710901 \t test accuracy:1.0000\n",
            "Train Epoch: 7 [25600/60000 (43%)]\tLoss1: 0.000487 \tLoss2: 0.712496 \t test accuracy:1.0000\n",
            "Train Epoch: 7 [38400/60000 (64%)]\tLoss1: 0.000840 \tLoss2: 0.690105 \t test accuracy:0.9922\n",
            "Train Epoch: 7 [51200/60000 (85%)]\tLoss1: 0.000227 \tLoss2: 0.681407 \t test accuracy:1.0000\n",
            "Train Epoch: 8 [0/60000 (0%)]\tLoss1: 0.000197 \tLoss2: 0.714004 \t test accuracy:1.0000\n",
            "Train Epoch: 8 [12800/60000 (21%)]\tLoss1: 0.001634 \tLoss2: 0.691610 \t test accuracy:1.0000\n",
            "Train Epoch: 8 [25600/60000 (43%)]\tLoss1: 0.000360 \tLoss2: 0.683666 \t test accuracy:1.0000\n",
            "Train Epoch: 8 [38400/60000 (64%)]\tLoss1: 0.001890 \tLoss2: 0.696268 \t test accuracy:1.0000\n",
            "Train Epoch: 8 [51200/60000 (85%)]\tLoss1: 0.000528 \tLoss2: 0.678428 \t test accuracy:1.0000\n",
            "Train Epoch: 9 [0/60000 (0%)]\tLoss1: 0.001936 \tLoss2: 0.693992 \t test accuracy:1.0000\n",
            "Train Epoch: 9 [12800/60000 (21%)]\tLoss1: 0.000533 \tLoss2: 0.705128 \t test accuracy:1.0000\n",
            "Train Epoch: 9 [25600/60000 (43%)]\tLoss1: 0.000183 \tLoss2: 0.665193 \t test accuracy:0.9922\n",
            "Train Epoch: 9 [38400/60000 (64%)]\tLoss1: 0.001472 \tLoss2: 0.696482 \t test accuracy:1.0000\n",
            "Train Epoch: 9 [51200/60000 (85%)]\tLoss1: 0.000915 \tLoss2: 0.693081 \t test accuracy:1.0000\n",
            "Train Epoch: 10 [0/60000 (0%)]\tLoss1: 0.000523 \tLoss2: 0.694607 \t test accuracy:1.0000\n",
            "Train Epoch: 10 [12800/60000 (21%)]\tLoss1: 0.000455 \tLoss2: 0.687156 \t test accuracy:0.9922\n",
            "Train Epoch: 10 [25600/60000 (43%)]\tLoss1: 0.000080 \tLoss2: 0.719835 \t test accuracy:1.0000\n",
            "Train Epoch: 10 [38400/60000 (64%)]\tLoss1: 0.002280 \tLoss2: 0.669596 \t test accuracy:1.0000\n",
            "Train Epoch: 10 [51200/60000 (85%)]\tLoss1: 0.000220 \tLoss2: 0.701907 \t test accuracy:1.0000\n",
            "Train Epoch: 11 [0/60000 (0%)]\tLoss1: 0.000707 \tLoss2: 0.696027 \t test accuracy:1.0000\n",
            "Train Epoch: 11 [12800/60000 (21%)]\tLoss1: 0.000187 \tLoss2: 0.694867 \t test accuracy:1.0000\n",
            "Train Epoch: 11 [25600/60000 (43%)]\tLoss1: 0.001261 \tLoss2: 0.714062 \t test accuracy:1.0000\n",
            "Train Epoch: 11 [38400/60000 (64%)]\tLoss1: 0.001479 \tLoss2: 0.690665 \t test accuracy:0.9922\n",
            "Train Epoch: 11 [51200/60000 (85%)]\tLoss1: 0.000257 \tLoss2: 0.705418 \t test accuracy:1.0000\n",
            "Train Epoch: 12 [0/60000 (0%)]\tLoss1: 0.004758 \tLoss2: 0.711279 \t test accuracy:1.0000\n",
            "Train Epoch: 12 [12800/60000 (21%)]\tLoss1: 0.001642 \tLoss2: 0.702149 \t test accuracy:1.0000\n",
            "Train Epoch: 12 [25600/60000 (43%)]\tLoss1: 0.000100 \tLoss2: 0.684998 \t test accuracy:1.0000\n",
            "Train Epoch: 12 [38400/60000 (64%)]\tLoss1: 0.000565 \tLoss2: 0.706967 \t test accuracy:1.0000\n",
            "Train Epoch: 12 [51200/60000 (85%)]\tLoss1: 0.000253 \tLoss2: 0.707027 \t test accuracy:1.0000\n",
            "Train Epoch: 13 [0/60000 (0%)]\tLoss1: 0.000421 \tLoss2: 0.700813 \t test accuracy:1.0000\n",
            "Train Epoch: 13 [12800/60000 (21%)]\tLoss1: 0.000120 \tLoss2: 0.685743 \t test accuracy:1.0000\n",
            "Train Epoch: 13 [25600/60000 (43%)]\tLoss1: 0.000218 \tLoss2: 0.703059 \t test accuracy:1.0000\n",
            "Train Epoch: 13 [38400/60000 (64%)]\tLoss1: 0.001207 \tLoss2: 0.717006 \t test accuracy:1.0000\n",
            "Train Epoch: 13 [51200/60000 (85%)]\tLoss1: 0.000354 \tLoss2: 0.695582 \t test accuracy:1.0000\n",
            "Train Epoch: 14 [0/60000 (0%)]\tLoss1: 0.000279 \tLoss2: 0.694241 \t test accuracy:1.0000\n",
            "Train Epoch: 14 [12800/60000 (21%)]\tLoss1: 0.000048 \tLoss2: 0.713103 \t test accuracy:1.0000\n",
            "Train Epoch: 14 [25600/60000 (43%)]\tLoss1: 0.000153 \tLoss2: 0.696319 \t test accuracy:1.0000\n",
            "Train Epoch: 14 [38400/60000 (64%)]\tLoss1: 0.000106 \tLoss2: 0.685855 \t test accuracy:1.0000\n",
            "Train Epoch: 14 [51200/60000 (85%)]\tLoss1: 0.001474 \tLoss2: 0.676437 \t test accuracy:1.0000\n",
            "Train Epoch: 15 [0/60000 (0%)]\tLoss1: 0.002064 \tLoss2: 0.695848 \t test accuracy:1.0000\n",
            "Train Epoch: 15 [12800/60000 (21%)]\tLoss1: 0.000612 \tLoss2: 0.684360 \t test accuracy:1.0000\n",
            "Train Epoch: 15 [25600/60000 (43%)]\tLoss1: 0.001461 \tLoss2: 0.681717 \t test accuracy:1.0000\n",
            "Train Epoch: 15 [38400/60000 (64%)]\tLoss1: 0.001145 \tLoss2: 0.682072 \t test accuracy:1.0000\n",
            "Train Epoch: 15 [51200/60000 (85%)]\tLoss1: 0.001662 \tLoss2: 0.664362 \t test accuracy:0.9922\n",
            "Train Epoch: 16 [0/60000 (0%)]\tLoss1: 0.001335 \tLoss2: 0.722690 \t test accuracy:1.0000\n",
            "Train Epoch: 16 [12800/60000 (21%)]\tLoss1: 0.000251 \tLoss2: 0.695980 \t test accuracy:1.0000\n",
            "Train Epoch: 16 [25600/60000 (43%)]\tLoss1: 0.000244 \tLoss2: 0.682645 \t test accuracy:1.0000\n",
            "Train Epoch: 16 [38400/60000 (64%)]\tLoss1: 0.000836 \tLoss2: 0.668376 \t test accuracy:1.0000\n",
            "Train Epoch: 16 [51200/60000 (85%)]\tLoss1: 0.000086 \tLoss2: 0.662689 \t test accuracy:1.0000\n",
            "Train Epoch: 17 [0/60000 (0%)]\tLoss1: 0.000135 \tLoss2: 0.686563 \t test accuracy:1.0000\n",
            "Train Epoch: 17 [12800/60000 (21%)]\tLoss1: 0.000107 \tLoss2: 0.681677 \t test accuracy:1.0000\n",
            "Train Epoch: 17 [25600/60000 (43%)]\tLoss1: 0.000527 \tLoss2: 0.678590 \t test accuracy:1.0000\n",
            "Train Epoch: 17 [38400/60000 (64%)]\tLoss1: 0.000079 \tLoss2: 0.705296 \t test accuracy:1.0000\n",
            "Train Epoch: 17 [51200/60000 (85%)]\tLoss1: 0.000214 \tLoss2: 0.705435 \t test accuracy:1.0000\n",
            "Train Epoch: 18 [0/60000 (0%)]\tLoss1: 0.000045 \tLoss2: 0.656969 \t test accuracy:1.0000\n",
            "Train Epoch: 18 [12800/60000 (21%)]\tLoss1: 0.000022 \tLoss2: 0.661251 \t test accuracy:1.0000\n",
            "Train Epoch: 18 [25600/60000 (43%)]\tLoss1: 0.000063 \tLoss2: 0.696687 \t test accuracy:1.0000\n",
            "Train Epoch: 18 [38400/60000 (64%)]\tLoss1: 0.000259 \tLoss2: 0.684626 \t test accuracy:1.0000\n",
            "Train Epoch: 18 [51200/60000 (85%)]\tLoss1: 0.000594 \tLoss2: 0.678900 \t test accuracy:1.0000\n",
            "Train Epoch: 19 [0/60000 (0%)]\tLoss1: 0.000025 \tLoss2: 0.675741 \t test accuracy:1.0000\n",
            "Train Epoch: 19 [12800/60000 (21%)]\tLoss1: 0.000412 \tLoss2: 0.718886 \t test accuracy:0.9922\n",
            "Train Epoch: 19 [25600/60000 (43%)]\tLoss1: 0.000054 \tLoss2: 0.701096 \t test accuracy:1.0000\n",
            "Train Epoch: 19 [38400/60000 (64%)]\tLoss1: 0.000191 \tLoss2: 0.646564 \t test accuracy:1.0000\n",
            "Train Epoch: 19 [51200/60000 (85%)]\tLoss1: 0.000013 \tLoss2: 0.662314 \t test accuracy:1.0000\n",
            "Train Epoch: 20 [0/60000 (0%)]\tLoss1: 0.000576 \tLoss2: 0.693048 \t test accuracy:1.0000\n",
            "Train Epoch: 20 [12800/60000 (21%)]\tLoss1: 0.000324 \tLoss2: 0.668652 \t test accuracy:1.0000\n",
            "Train Epoch: 20 [25600/60000 (43%)]\tLoss1: 0.000228 \tLoss2: 0.657819 \t test accuracy:1.0000\n",
            "Train Epoch: 20 [38400/60000 (64%)]\tLoss1: 0.000184 \tLoss2: 0.685319 \t test accuracy:0.9922\n",
            "Train Epoch: 20 [51200/60000 (85%)]\tLoss1: 0.000245 \tLoss2: 0.705876 \t test accuracy:1.0000\n",
            "Train Epoch: 21 [0/60000 (0%)]\tLoss1: 0.001037 \tLoss2: 0.675474 \t test accuracy:1.0000\n",
            "Train Epoch: 21 [12800/60000 (21%)]\tLoss1: 0.000933 \tLoss2: 0.690558 \t test accuracy:1.0000\n",
            "Train Epoch: 21 [25600/60000 (43%)]\tLoss1: 0.000064 \tLoss2: 0.661630 \t test accuracy:1.0000\n",
            "Train Epoch: 21 [38400/60000 (64%)]\tLoss1: 0.000013 \tLoss2: 0.705780 \t test accuracy:1.0000\n",
            "Train Epoch: 21 [51200/60000 (85%)]\tLoss1: 0.000266 \tLoss2: 0.673887 \t test accuracy:0.9922\n",
            "Train Epoch: 22 [0/60000 (0%)]\tLoss1: 0.000143 \tLoss2: 0.677331 \t test accuracy:1.0000\n",
            "Train Epoch: 22 [12800/60000 (21%)]\tLoss1: 0.000015 \tLoss2: 0.676061 \t test accuracy:1.0000\n",
            "Train Epoch: 22 [25600/60000 (43%)]\tLoss1: 0.000042 \tLoss2: 0.678370 \t test accuracy:1.0000\n",
            "Train Epoch: 22 [38400/60000 (64%)]\tLoss1: 0.000035 \tLoss2: 0.672825 \t test accuracy:1.0000\n",
            "Train Epoch: 22 [51200/60000 (85%)]\tLoss1: 0.000037 \tLoss2: 0.694205 \t test accuracy:1.0000\n",
            "Train Epoch: 23 [0/60000 (0%)]\tLoss1: 0.001625 \tLoss2: 0.668901 \t test accuracy:1.0000\n",
            "Train Epoch: 23 [12800/60000 (21%)]\tLoss1: 0.000120 \tLoss2: 0.655298 \t test accuracy:1.0000\n",
            "Train Epoch: 23 [25600/60000 (43%)]\tLoss1: 0.000006 \tLoss2: 0.676081 \t test accuracy:1.0000\n",
            "Train Epoch: 23 [38400/60000 (64%)]\tLoss1: 0.000311 \tLoss2: 0.653579 \t test accuracy:1.0000\n",
            "Train Epoch: 23 [51200/60000 (85%)]\tLoss1: 0.000337 \tLoss2: 0.656271 \t test accuracy:0.9922\n",
            "Train Epoch: 24 [0/60000 (0%)]\tLoss1: 0.000051 \tLoss2: 0.690603 \t test accuracy:0.9922\n",
            "Train Epoch: 24 [12800/60000 (21%)]\tLoss1: 0.000094 \tLoss2: 0.655645 \t test accuracy:0.9922\n",
            "Train Epoch: 24 [25600/60000 (43%)]\tLoss1: 0.000382 \tLoss2: 0.686946 \t test accuracy:1.0000\n",
            "Train Epoch: 24 [38400/60000 (64%)]\tLoss1: 0.000312 \tLoss2: 0.661412 \t test accuracy:1.0000\n",
            "Train Epoch: 24 [51200/60000 (85%)]\tLoss1: 0.000015 \tLoss2: 0.680440 \t test accuracy:0.9922\n",
            "Train Epoch: 25 [0/60000 (0%)]\tLoss1: 0.000525 \tLoss2: 0.690955 \t test accuracy:1.0000\n",
            "Train Epoch: 25 [12800/60000 (21%)]\tLoss1: 0.000522 \tLoss2: 0.654996 \t test accuracy:1.0000\n",
            "Train Epoch: 25 [25600/60000 (43%)]\tLoss1: 0.000331 \tLoss2: 0.668230 \t test accuracy:1.0000\n",
            "Train Epoch: 25 [38400/60000 (64%)]\tLoss1: 0.000066 \tLoss2: 0.697684 \t test accuracy:0.9922\n",
            "Train Epoch: 25 [51200/60000 (85%)]\tLoss1: 0.000492 \tLoss2: 0.671946 \t test accuracy:1.0000\n",
            "Train Epoch: 26 [0/60000 (0%)]\tLoss1: 0.000340 \tLoss2: 0.693028 \t test accuracy:1.0000\n",
            "Train Epoch: 26 [12800/60000 (21%)]\tLoss1: 0.000019 \tLoss2: 0.671784 \t test accuracy:1.0000\n",
            "Train Epoch: 26 [25600/60000 (43%)]\tLoss1: 0.000092 \tLoss2: 0.684917 \t test accuracy:1.0000\n",
            "Train Epoch: 26 [38400/60000 (64%)]\tLoss1: 0.000027 \tLoss2: 0.658519 \t test accuracy:1.0000\n",
            "Train Epoch: 26 [51200/60000 (85%)]\tLoss1: 0.000051 \tLoss2: 0.662214 \t test accuracy:1.0000\n",
            "Train Epoch: 27 [0/60000 (0%)]\tLoss1: 0.000060 \tLoss2: 0.680690 \t test accuracy:1.0000\n",
            "Train Epoch: 27 [12800/60000 (21%)]\tLoss1: 0.000202 \tLoss2: 0.662924 \t test accuracy:1.0000\n",
            "Train Epoch: 27 [25600/60000 (43%)]\tLoss1: 0.000091 \tLoss2: 0.688571 \t test accuracy:1.0000\n",
            "Train Epoch: 27 [38400/60000 (64%)]\tLoss1: 0.000029 \tLoss2: 0.673507 \t test accuracy:1.0000\n",
            "Train Epoch: 27 [51200/60000 (85%)]\tLoss1: 0.000012 \tLoss2: 0.662414 \t test accuracy:1.0000\n",
            "Train Epoch: 28 [0/60000 (0%)]\tLoss1: 0.000068 \tLoss2: 0.661478 \t test accuracy:1.0000\n",
            "Train Epoch: 28 [12800/60000 (21%)]\tLoss1: 0.000069 \tLoss2: 0.676011 \t test accuracy:0.9922\n",
            "Train Epoch: 28 [25600/60000 (43%)]\tLoss1: 0.000085 \tLoss2: 0.655647 \t test accuracy:1.0000\n",
            "Train Epoch: 28 [38400/60000 (64%)]\tLoss1: 0.000129 \tLoss2: 0.645794 \t test accuracy:1.0000\n",
            "Train Epoch: 28 [51200/60000 (85%)]\tLoss1: 0.000035 \tLoss2: 0.680968 \t test accuracy:1.0000\n",
            "Train Epoch: 29 [0/60000 (0%)]\tLoss1: 0.000043 \tLoss2: 0.679005 \t test accuracy:1.0000\n",
            "Train Epoch: 29 [12800/60000 (21%)]\tLoss1: 0.000118 \tLoss2: 0.673500 \t test accuracy:1.0000\n",
            "Train Epoch: 29 [25600/60000 (43%)]\tLoss1: 0.000033 \tLoss2: 0.662643 \t test accuracy:0.9922\n",
            "Train Epoch: 29 [38400/60000 (64%)]\tLoss1: 0.000569 \tLoss2: 0.650962 \t test accuracy:1.0000\n",
            "Train Epoch: 29 [51200/60000 (85%)]\tLoss1: 0.000028 \tLoss2: 0.689124 \t test accuracy:1.0000\n"
          ],
          "name": "stdout"
        }
      ]
    },
    {
      "cell_type": "markdown",
      "metadata": {
        "id": "RWLP4KQgeRTj",
        "colab_type": "text"
      },
      "source": [
        "# 计算测试集的准确度\n",
        "之前训练时只用了一个batch_size，现在计算所有"
      ]
    },
    {
      "cell_type": "code",
      "metadata": {
        "id": "zmyOA3iQdZlP",
        "colab_type": "code",
        "colab": {
          "base_uri": "https://localhost:8080/",
          "height": 92
        },
        "outputId": "5d7ab670-6f9b-4352-ec61-f852c0bd861e"
      },
      "source": [
        "test_acc = []\n",
        "for batch_idx, (data, target) in enumerate(test_loader):\n",
        "    data, target = data.to(DEVICE), target.to(DEVICE)\n",
        "    y_true = torch.sparse.torch.eye(10).index_select(dim=0, index=target.cpu().data)\n",
        "    y_true = y_true.to(DEVICE)\n",
        "    predict,_ = model(data,y_true)\n",
        "    predict = torch.sqrt(torch.sum(predict*predict, 2))\n",
        "    _,pred = torch.max(predict, 1)\n",
        "\n",
        "    acc = torch.mean((torch.tensor(pred == target,dtype=torch.float)))\n",
        "    test_acc.append(acc)\n",
        "print('total test accuracy : %.4f'%(np.array(test_acc).mean()))"
      ],
      "execution_count": 81,
      "outputs": [
        {
          "output_type": "stream",
          "text": [
            "/usr/local/lib/python3.6/dist-packages/ipykernel_launcher.py:10: UserWarning: To copy construct from a tensor, it is recommended to use sourceTensor.clone().detach() or sourceTensor.clone().detach().requires_grad_(True), rather than torch.tensor(sourceTensor).\n",
            "  # Remove the CWD from sys.path while we load stuff.\n"
          ],
          "name": "stderr"
        },
        {
          "output_type": "stream",
          "text": [
            "total test accuracy : 0.9924\n"
          ],
          "name": "stdout"
        }
      ]
    },
    {
      "cell_type": "code",
      "metadata": {
        "id": "G440jWVbOxNq",
        "colab_type": "code",
        "colab": {}
      },
      "source": [
        "torch.save(model.state_dict(), 'params.pkl')"
      ],
      "execution_count": 0,
      "outputs": []
    },
    {
      "cell_type": "markdown",
      "metadata": {
        "id": "2LUT6f4dYQaW",
        "colab_type": "text"
      },
      "source": [
        "# 加载训练好的模型"
      ]
    },
    {
      "cell_type": "code",
      "metadata": {
        "id": "WQyWBkWoELzr",
        "colab_type": "code",
        "colab": {
          "base_uri": "https://localhost:8080/",
          "height": 290
        },
        "outputId": "e66bf864-fd48-47f1-b16a-9d9acf20b315"
      },
      "source": [
        "import os\n",
        "model = CapsuleNet()\n",
        "model.load_state_dict(torch.load('params.pkl'))\n",
        "\n",
        "model.to(DEVICE)\n",
        "print(model)"
      ],
      "execution_count": 62,
      "outputs": [
        {
          "output_type": "stream",
          "text": [
            "CapsuleNet(\n",
            "  (conv1): Conv2d(1, 256, kernel_size=(9, 9), stride=(1, 1))\n",
            "  (conv2): Conv2d(256, 256, kernel_size=(9, 9), stride=(2, 2))\n",
            "  (capsule): Capsule()\n",
            "  (Decoder): Decoder(\n",
            "    (reconstraction_layers): Sequential(\n",
            "      (0): Linear(in_features=160, out_features=512, bias=True)\n",
            "      (1): ReLU(inplace)\n",
            "      (2): Linear(in_features=512, out_features=1024, bias=True)\n",
            "      (3): ReLU(inplace)\n",
            "      (4): Linear(in_features=1024, out_features=784, bias=True)\n",
            "      (5): Sigmoid()\n",
            "    )\n",
            "  )\n",
            ")\n"
          ],
          "name": "stdout"
        }
      ]
    },
    {
      "cell_type": "markdown",
      "metadata": {
        "id": "IiEla9fw3U0n",
        "colab_type": "text"
      },
      "source": [
        "# 单数字重构"
      ]
    },
    {
      "cell_type": "code",
      "metadata": {
        "id": "sPiqcyoh3EZv",
        "colab_type": "code",
        "colab": {
          "base_uri": "https://localhost:8080/",
          "height": 405
        },
        "outputId": "8454ba70-6b1b-4a99-b6c3-936bc7a69fc2"
      },
      "source": [
        "import matplotlib.pyplot as plt\n",
        "import random\n",
        "import numpy as np\n",
        "import time\n",
        "\n",
        "img_num = 7\n",
        "k = random.randint(10,100)\n",
        "\n",
        "imgs = x_test[k:img_num+k].cpu().numpy()\n",
        "label = y_test[k:img_num+k].cpu().numpy()\n",
        "\n",
        "y_true = torch.sparse.torch.eye(10).index_select(dim=0, index=y_test[k:img_num+k].cpu().data)\n",
        "y_true = y_true.cuda()\n",
        "\n",
        "out,pred_imgs = model(x_test[k:img_num+k],y_true)\n",
        "pred_label = torch.sqrt(torch.sum(out*out, 2))\n",
        "\n",
        "pred_imgs = pred_imgs.cpu().detach().numpy()\n",
        "pred_label = pred_label.cpu().detach().numpy()\n",
        "pred_label = np.argmax(pred_label,1)\n",
        "\n",
        "plt.figure(\"test Image\",figsize=(img_num*3,3*2))\n",
        "for i in range(img_num):\n",
        "    index = i\n",
        "    img = imgs[index]\n",
        "    title = label[index]\n",
        "    img = img.reshape([28, 28])\n",
        "    \n",
        "    plt.subplot(2,img_num,i+1)\n",
        "    plt.imshow(img,cmap=plt.cm.gray)\n",
        "    plt.axis('off') \n",
        "    plt.title(title)\n",
        "    \n",
        "for i in range(img_num):\n",
        "    index = i\n",
        "    img = pred_imgs[index]\n",
        "    plt.subplot(2,img_num,i+img_num+1)\n",
        "    \n",
        "    title = pred_label[index]\n",
        "    img = img.reshape([28, 28])\n",
        "    plt.imshow(img,cmap=plt.cm.gray)\n",
        "    plt.axis('off') \n",
        "    plt.title(title)\n",
        "    \n",
        "filename = 'r1'+str(time.time())+'.jpg'\n",
        "plt.savefig(filename)\n",
        "plt.show()"
      ],
      "execution_count": 82,
      "outputs": [
        {
          "output_type": "display_data",
          "data": {
            "image/png": "[encoded data removed]",
            "text/plain": [
              "<Figure size 1512x432 with 14 Axes>"
            ]
          },
          "metadata": {
            "tags": []
          }
        }
      ]
    },
    {
      "cell_type": "markdown",
      "metadata": {
        "id": "gQYN7bFIYau9",
        "colab_type": "text"
      },
      "source": [
        "# 2个数字重叠重构(目前还有问题)"
      ]
    },
    {
      "cell_type": "code",
      "metadata": {
        "id": "jexXL2AahsE3",
        "colab_type": "code",
        "colab": {
          "base_uri": "https://localhost:8080/",
          "height": 670
        },
        "outputId": "10e64e60-8407-4aed-c77a-8307b176b627"
      },
      "source": [
        "import random\n",
        "k = random.randint(10,100)\n",
        "\n",
        "img_num = 6\n",
        "imgs = (torch.max(x_test[:img_num],x_test[k:img_num+k])).cpu().numpy()\n",
        "\n",
        "label1 = (y_test[:img_num]).cpu().numpy()\n",
        "label2 = (y_test[k:img_num+k]).cpu().numpy()\n",
        "\n",
        "y_true1 = torch.sparse.torch.eye(10).index_select(dim=0, index=y_test[:img_num].cpu().data)\n",
        "y_true1 = y_true1.to(DEVICE)\n",
        "\n",
        "y_true2 = torch.sparse.torch.eye(10).index_select(dim=0, index=y_test[k:img_num+k].cpu().data)\n",
        "y_true2 = y_true2.to(DEVICE)\n",
        "\n",
        "data = torch.tensor(imgs,dtype=torch.float,device=DEVICE)\n",
        "\n",
        "out1,pred_imgs1 = model(data,y_true1)\n",
        "out2,pred_imgs2 = model(data,y_true2)\n",
        "\n",
        "pred_label1 = torch.sqrt(torch.sum(out1*out1, 2))\n",
        "pred_label2 = pred_label1\n",
        "\n",
        "\n",
        "pred_imgs1 = pred_imgs1.cpu().detach().numpy()\n",
        "pred_imgs2 = pred_imgs2.cpu().detach().numpy()\n",
        "\n",
        "pred_label1 = pred_label1.cpu().detach().numpy()\n",
        "pred_label2 = pred_label2.cpu().detach().numpy()\n",
        "\n",
        "pred_label1 = np.argsort(pred_label1,1)[:,-1]\n",
        "pred_label2 =np.argsort(pred_label2,1)[:,-2]\n",
        "\n",
        "pred_imgs3 = np.zeros_like(pred_imgs1)\n",
        "\n",
        "pred_imgs = np.stack((pred_imgs1,pred_imgs2,pred_imgs3),1)\n",
        "pred_imgs = pred_imgs.transpose(0,3,4,1,2).squeeze(4)\n",
        "\n",
        "\n",
        "plt.figure(\"test Image\",figsize=(img_num*2,6*2))\n",
        "for i in range(img_num):\n",
        "    index = i\n",
        "    img = imgs[index]\n",
        "    title = str(label1[index])+\" \"+str(label2[index])\n",
        "    img = img.reshape([28, 28])\n",
        "    \n",
        "    plt.subplot(4,img_num,i+1)\n",
        "    plt.imshow(img,cmap=plt.cm.gray)\n",
        "    plt.axis('off') \n",
        "    plt.title(title)\n",
        "    \n",
        "for i in range(img_num):\n",
        "    index = i\n",
        "    \n",
        "    plt.subplot(4,img_num,i+img_num+1)\n",
        "    title = str(pred_label1[index])+\" \"+str(pred_label2[index])\n",
        "    \n",
        "    img = pred_imgs[index]\n",
        "    plt.imshow(img)\n",
        "    plt.axis('off') \n",
        "    plt.title(title)\n",
        "    \n",
        "    img1 = pred_imgs1[index]\n",
        "    img1 = img1.reshape([28, 28])    \n",
        "    plt.subplot(4,img_num,i+2*img_num+1)\n",
        "    plt.imshow(img1,cmap=plt.cm.gray)\n",
        "    plt.axis('off') \n",
        "    plt.title(title)\n",
        "    \n",
        "    img2 = pred_imgs2[index]\n",
        "    img2 = img2.reshape([28, 28])    \n",
        "    plt.subplot(4,img_num,i+3*img_num+1)\n",
        "    plt.imshow(img2,cmap=plt.cm.gray)\n",
        "    plt.axis('off') \n",
        "    plt.title(title)\n",
        "\n",
        "\n",
        "    \n",
        "# filename = 'r2'+str(time.time())+'.jpg'\n",
        "# plt.savefig(filename)    \n",
        "plt.show()"
      ],
      "execution_count": 83,
      "outputs": [
        {
          "output_type": "display_data",
          "data": {
            "image/png": "[encoded data removed]",
            "text/plain": [
              "<Figure size 864x864 with 24 Axes>"
            ]
          },
          "metadata": {
            "tags": []
          }
        }
      ]
    },
    {
      "cell_type": "code",
      "metadata": {
        "id": "j_XAjqROoB6j",
        "colab_type": "code",
        "colab": {}
      },
      "source": [
        ""
      ],
      "execution_count": 0,
      "outputs": []
    },
    {
      "cell_type": "code",
      "metadata": {
        "id": "1kj2RqFx1nCM",
        "colab_type": "code",
        "colab": {}
      },
      "source": [
        ""
      ],
      "execution_count": 0,
      "outputs": []
    }
  ]
}