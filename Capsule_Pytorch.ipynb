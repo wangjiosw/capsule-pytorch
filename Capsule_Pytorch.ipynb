{
  "nbformat": 4,
  "nbformat_minor": 0,
  "metadata": {
    "colab": {
      "name": "Capsule Pytorch.ipynb",
      "version": "0.3.2",
      "provenance": [],
      "collapsed_sections": [],
      "toc_visible": true
    },
    "language_info": {
      "codemirror_mode": {
        "name": "ipython",
        "version": 3
      },
      "file_extension": ".py",
      "mimetype": "text/x-python",
      "name": "python",
      "nbconvert_exporter": "python",
      "pygments_lexer": "ipython3",
      "version": "3.6.8"
    },
    "kernelspec": {
      "name": "python3",
      "display_name": "Python 3"
    },
    "accelerator": "GPU"
  },
  "cells": [
    {
      "cell_type": "code",
      "metadata": {
        "id": "77gWhdAk8Z0_",
        "colab_type": "code",
        "colab": {}
      },
      "source": [
        "import torch\n",
        "import torch.nn as nn\n",
        "import torch.nn.functional as F\n",
        "import torch.optim as optim\n",
        "from torchvision import datasets, transforms\n",
        "from torch.nn.init import xavier_uniform_ as init\n",
        "from torch.autograd import Variable\n",
        "import numpy as np"
      ],
      "execution_count": 0,
      "outputs": []
    },
    {
      "cell_type": "markdown",
      "metadata": {
        "id": "4RubMgSs8Z1J",
        "colab_type": "text"
      },
      "source": [
        "# prepare data"
      ]
    },
    {
      "cell_type": "code",
      "metadata": {
        "id": "p6ntKBnW8Z1J",
        "colab_type": "code",
        "outputId": "03c1502b-b07c-4fd1-da0d-a736436beb88",
        "colab": {
          "base_uri": "https://localhost:8080/",
          "height": 35
        }
      },
      "source": [
        "BATCH_SIZE=128\n",
        "EPOCHS=20\n",
        "DEVICE = torch.device(\"cuda\" if torch.cuda.is_available() else \"cpu\")\n",
        "DEVICE"
      ],
      "execution_count": 2,
      "outputs": [
        {
          "output_type": "execute_result",
          "data": {
            "text/plain": [
              "device(type='cuda')"
            ]
          },
          "metadata": {
            "tags": []
          },
          "execution_count": 2
        }
      ]
    },
    {
      "cell_type": "code",
      "metadata": {
        "id": "AS0ldjbc8Z1M",
        "colab_type": "code",
        "colab": {}
      },
      "source": [
        "train_loader = torch.utils.data.DataLoader(\n",
        "        datasets.MNIST('data', train=True, download=True, \n",
        "                       transform=transforms.Compose([\n",
        "                           transforms.ToTensor(),\n",
        "                           transforms.Normalize((0.1307,), (0.3081,))\n",
        "                       ])),\n",
        "        batch_size=BATCH_SIZE, shuffle=True)"
      ],
      "execution_count": 0,
      "outputs": []
    },
    {
      "cell_type": "code",
      "metadata": {
        "id": "PwGmQdt_8Z1O",
        "colab_type": "code",
        "colab": {}
      },
      "source": [
        "test_loader = torch.utils.data.DataLoader(\n",
        "        datasets.MNIST('data', train=False, transform=transforms.Compose([\n",
        "                           transforms.ToTensor(),\n",
        "                           transforms.Normalize((0.1307,), (0.3081,))\n",
        "                       ])),\n",
        "        batch_size=500, shuffle=True)"
      ],
      "execution_count": 0,
      "outputs": []
    },
    {
      "cell_type": "code",
      "metadata": {
        "id": "LT-93_sze85s",
        "colab_type": "code",
        "colab": {}
      },
      "source": [
        "test_iter = iter(test_loader)\n",
        "imgs,labels = next(test_iter)"
      ],
      "execution_count": 0,
      "outputs": []
    },
    {
      "cell_type": "code",
      "metadata": {
        "id": "htTReQjgiimg",
        "colab_type": "code",
        "outputId": "e2e4e122-8d4c-4b2b-d2bb-23bf065369c9",
        "colab": {
          "base_uri": "https://localhost:8080/",
          "height": 35
        }
      },
      "source": [
        "print(imgs.shape,labels.shape)"
      ],
      "execution_count": 6,
      "outputs": [
        {
          "output_type": "stream",
          "text": [
            "torch.Size([500, 1, 28, 28]) torch.Size([500])\n"
          ],
          "name": "stdout"
        }
      ]
    },
    {
      "cell_type": "code",
      "metadata": {
        "id": "LFqtb-Ajf1ug",
        "colab_type": "code",
        "outputId": "fd3e4f0f-2678-466f-db24-8e8f7309e0cf",
        "colab": {
          "base_uri": "https://localhost:8080/",
          "height": 128
        }
      },
      "source": [
        "x_test = torch.tensor(imgs[:500],device=DEVICE,dtype=torch.float)\n",
        "# x_test = x_test.view(x_test.size(0),1, x_test.size(1),x_test.size(2))\n",
        "y_test = torch.tensor(labels[:500],device=DEVICE,dtype=torch.long)\n",
        "\n",
        "\n",
        "print(x_test.shape, y_test.shape)"
      ],
      "execution_count": 7,
      "outputs": [
        {
          "output_type": "stream",
          "text": [
            "/usr/local/lib/python3.6/dist-packages/ipykernel_launcher.py:1: UserWarning: To copy construct from a tensor, it is recommended to use sourceTensor.clone().detach() or sourceTensor.clone().detach().requires_grad_(True), rather than torch.tensor(sourceTensor).\n",
            "  \"\"\"Entry point for launching an IPython kernel.\n"
          ],
          "name": "stderr"
        },
        {
          "output_type": "stream",
          "text": [
            "torch.Size([500, 1, 28, 28]) torch.Size([500])\n"
          ],
          "name": "stdout"
        },
        {
          "output_type": "stream",
          "text": [
            "/usr/local/lib/python3.6/dist-packages/ipykernel_launcher.py:3: UserWarning: To copy construct from a tensor, it is recommended to use sourceTensor.clone().detach() or sourceTensor.clone().detach().requires_grad_(True), rather than torch.tensor(sourceTensor).\n",
            "  This is separate from the ipykernel package so we can avoid doing imports until\n"
          ],
          "name": "stderr"
        }
      ]
    },
    {
      "cell_type": "markdown",
      "metadata": {
        "id": "oNiREwDe8Z1Q",
        "colab_type": "text"
      },
      "source": [
        "# Model"
      ]
    },
    {
      "cell_type": "code",
      "metadata": {
        "id": "V5MJV1tsSGbm",
        "colab_type": "code",
        "colab": {}
      },
      "source": [
        "epsilon = 0.00000001\n",
        "def squash(x):\n",
        "    # not concern batch_size, maybe rewrite\n",
        "    s_squared_norm = torch.sum(x*x,1,keepdim=True) + epsilon\n",
        "    scale = torch.sqrt(s_squared_norm)/(1. + s_squared_norm)\n",
        "    # out = (batch_size,1,10)*(batch_size,16,10) = (batch_size,16,10)\n",
        "    out = scale * x\n",
        "    return out"
      ],
      "execution_count": 0,
      "outputs": []
    },
    {
      "cell_type": "code",
      "metadata": {
        "id": "tzVC4dbZ8Z1R",
        "colab_type": "code",
        "colab": {}
      },
      "source": [
        "# A Capsule Implement with pytorch\n",
        "class Capsule(nn.Module):\n",
        "\n",
        "    def __init__(self, in_units,in_channels, num_capsule, dim_capsule, routings=3, **kwargs):\n",
        "        super(Capsule, self).__init__(**kwargs)\n",
        "        self.in_units = in_units\n",
        "        self.in_channels = in_channels\n",
        "        self.num_capsule = num_capsule\n",
        "        self.dim_capsule = dim_capsule\n",
        "        self.routings = routings\n",
        "        # (in_units,10,128,16)\n",
        "        self.W = nn.Parameter((torch.randn(self.in_units,self.num_capsule,self.in_channels, self.dim_capsule)))\n",
        "\n",
        "    def forward(self, u_vecs):\n",
        "        u_vecs = u_vecs.permute(0,2,1)\n",
        "        u_vecs = u_vecs.unsqueeze(2)\n",
        "        u_vecs = u_vecs.unsqueeze(2)\n",
        "\n",
        "        \n",
        "        # (batch_size,in_units,1,1,in_channels)*(in_units,10,in_channels,16) = (batch_size,in_units,10,1,16)\n",
        "        u_hat_vecs = torch.matmul(u_vecs,self.W)\n",
        "        # (batch_size,in_units,10,16)\n",
        "        u_hat_vecs = u_hat_vecs.permute(0,1,2,4,3).squeeze(4)\n",
        "        \n",
        "        # (batch_size,10,in_units,16)\n",
        "        u_hat_vecs2 = u_hat_vecs.permute(0,2,1,3)\n",
        "    \n",
        "        # (batch_size,10,1,in_units)\n",
        "        b = torch.zeros(u_hat_vecs.size(0),self.num_capsule,1,self.in_units,device=DEVICE)\n",
        "        for i in range(self.routings):\n",
        "            # (batch_size,10,1,in_units)\n",
        "            c = F.softmax(b,-1)\n",
        "            # s = (batch_size,10,1,in_units)*(batch_size,10,in_units,16) = (batch_size,10,1,16)\n",
        "            s = torch.matmul(c,u_hat_vecs2)\n",
        "            # (batch_size,16,10)\n",
        "            s = s.permute(0,3,1,2).squeeze(3)\n",
        "            # (batch_size,16,10)\n",
        "            v = squash(s)\n",
        "            # here\n",
        "            # (batch_size,10,16,1)\n",
        "            v = v.permute(0,2,1).unsqueeze(3)\n",
        "            # (batch_size,10,in_units,16)*(batch_size,10,16,1) = (batch_size,10,in_units,1)\n",
        "            sim = torch.matmul(u_hat_vecs2,v)\n",
        "            # (batch_size,10,1,in_units)\n",
        "            sim = sim.permute(0,1,3,2)\n",
        "            b = b+sim\n",
        "        # (batch_size,16,10)\n",
        "        return v.permute(0,2,1,3).squeeze(3)\n",
        "\n",
        "class Decoder(nn.Module):\n",
        "    def __init__(self):\n",
        "        super(Decoder, self).__init__()\n",
        "        \n",
        "        self.reconstraction_layers = nn.Sequential(\n",
        "            nn.Linear(16 * 10, 512),\n",
        "            nn.ReLU(inplace=True),\n",
        "            nn.Linear(512, 1024),\n",
        "            nn.ReLU(inplace=True),\n",
        "            nn.Linear(1024, 784),\n",
        "            nn.Sigmoid()\n",
        "        )\n",
        "        \n",
        "    def forward(self, x,label):\n",
        "        # x (batch_size,10,16)\n",
        "        # label (batch_size,10,1)\n",
        "        label = label.unsqueeze(2)\n",
        "\n",
        "        inp = label*x\n",
        "        inp = inp.view(x.size(0), -1)\n",
        "        reconstructions = self.reconstraction_layers(inp)\n",
        "        reconstructions = reconstructions.view(-1, 1, 28, 28)\n",
        "        \n",
        "        return reconstructions    \n",
        "    \n",
        "    \n",
        "class CapsuleNet(nn.Module):\n",
        "    def __init__(self):\n",
        "        super().__init__()\n",
        "        # 1,28x28\n",
        "        self.conv1=nn.Conv2d(1,256,9) \n",
        "        self.conv2=nn.Conv2d(256,32*8,9,2) \n",
        "        self.capsule = Capsule(1152,8, 10, 16)\n",
        "        self.Decoder = Decoder()\n",
        "   \n",
        "#         self.fc2 = nn.Linear(500,10)\n",
        "    def forward(self,x,label):\n",
        "        batch_size = x.size(0)\n",
        "        out = self.conv1(x)\n",
        "        out = F.relu(out)\n",
        "        out = self.conv2(out)\n",
        "        # (batch_size, 32*8, 6, 6)\n",
        "        out = F.relu(out)\n",
        "        out = out.view(batch_size,8,-1)\n",
        "        out = squash(out)\n",
        "\n",
        "        # (batch_size,8,1152)\n",
        "        out = out.view(out.size(0),out.size(1),-1)\n",
        "        # (batch_size,16,10)\n",
        "        out = self.capsule(out)\n",
        "        # (batch_size,10,16)\n",
        "        out = out.permute(0,2,1)\n",
        "        \n",
        "\n",
        "        \n",
        "        decoder = self.Decoder(out,label)\n",
        "\n",
        "        \n",
        "\n",
        "\n",
        "        return out,decoder"
      ],
      "execution_count": 0,
      "outputs": []
    },
    {
      "cell_type": "code",
      "metadata": {
        "id": "WU6uRB2f9pFE",
        "colab_type": "code",
        "outputId": "674d7427-aa24-4d12-f0e4-a132a35215d5",
        "colab": {
          "base_uri": "https://localhost:8080/",
          "height": 290
        }
      },
      "source": [
        "import os\n",
        "model = CapsuleNet()\n",
        "if os.path.exists('params.pkl'):\n",
        "    model.load_state_dict(torch.load('params.pkl'))\n",
        "    \n",
        "model.to(DEVICE)"
      ],
      "execution_count": 70,
      "outputs": [
        {
          "output_type": "execute_result",
          "data": {
            "text/plain": [
              "CapsuleNet(\n",
              "  (conv1): Conv2d(1, 256, kernel_size=(9, 9), stride=(1, 1))\n",
              "  (conv2): Conv2d(256, 256, kernel_size=(9, 9), stride=(2, 2))\n",
              "  (capsule): Capsule()\n",
              "  (Decoder): Decoder(\n",
              "    (reconstraction_layers): Sequential(\n",
              "      (0): Linear(in_features=160, out_features=512, bias=True)\n",
              "      (1): ReLU(inplace)\n",
              "      (2): Linear(in_features=512, out_features=1024, bias=True)\n",
              "      (3): ReLU(inplace)\n",
              "      (4): Linear(in_features=1024, out_features=784, bias=True)\n",
              "      (5): Sigmoid()\n",
              "    )\n",
              "  )\n",
              ")"
            ]
          },
          "metadata": {
            "tags": []
          },
          "execution_count": 70
        }
      ]
    },
    {
      "cell_type": "code",
      "metadata": {
        "id": "e7yBV9lN6I6C",
        "colab_type": "code",
        "outputId": "f565c2d4-df28-4ae4-e8a8-082591d00400",
        "colab": {
          "base_uri": "https://localhost:8080/",
          "height": 1146
        }
      },
      "source": [
        "optimizer = optim.Adam(model.parameters())#,lr=0.000001)\n",
        "\n",
        "n_epoch = 20\n",
        "pre_acc = 0\n",
        "for epoch in range(n_epoch):\n",
        "    for batch_idx, (data, target) in enumerate(train_loader):\n",
        "        target = torch.sparse.torch.eye(10).index_select(dim=0, index=target)\n",
        "        data, target = data.to(DEVICE), target.to(DEVICE)\n",
        "        \n",
        "        optimizer.zero_grad()\n",
        "        \n",
        "        output,pred_img = model(data,target)\n",
        "        \n",
        "        # (batch_size,10)\n",
        "        output = torch.sqrt(torch.sum(output*output, 2))\n",
        "        loss1 = target*F.relu(0.9-output)**2 + 0.25*(1-target)*F.relu(output-0.1)**2\n",
        "        loss1 = loss1.sum(dim=1).mean()\n",
        "        loss2 = ((data-pred_img)**2).mean()\n",
        "        loss = loss1+0.001*loss2\n",
        "        loss.backward()\n",
        "\n",
        "        optimizer.step()\n",
        "\n",
        "        if(batch_idx)%200 == 0:\n",
        "            y_true = torch.sparse.torch.eye(10).index_select(dim=0, index=y_test.cpu().data)\n",
        "            y_true = y_true.cuda()\n",
        "            predict,_ = model(x_test,y_true)\n",
        "            predict = torch.sqrt(torch.sum(predict*predict, 2))\n",
        "            _,pred = torch.max(predict, 1)\n",
        "\n",
        "            acc = torch.mean((torch.tensor(pred == y_test,dtype=torch.float)))\n",
        "\n",
        "            print('Train Epoch: {} [{}/{} ({:.0f}%)]\\tLoss1: {:.6f} \\tLoss2: {:.6f} \\t accuracy:{:.4f}'.format(\n",
        "                epoch, batch_idx * len(data), len(train_loader.dataset),\n",
        "                100. * batch_idx / len(train_loader),loss1.item(),loss2.item(),acc))\n",
        "\n"
      ],
      "execution_count": 71,
      "outputs": [
        {
          "output_type": "stream",
          "text": [
            "/usr/local/lib/python3.6/dist-packages/ipykernel_launcher.py:35: UserWarning: To copy construct from a tensor, it is recommended to use sourceTensor.clone().detach() or sourceTensor.clone().detach().requires_grad_(True), rather than torch.tensor(sourceTensor).\n"
          ],
          "name": "stderr"
        },
        {
          "output_type": "stream",
          "text": [
            "Train Epoch: 0 [0/60000 (0%)]\tLoss1: 0.807405 \tLoss2: 1.239923 \t accuracy:0.1880\n",
            "Train Epoch: 0 [25600/60000 (43%)]\tLoss1: 0.030513 \tLoss2: 0.770482 \t accuracy:0.9860\n",
            "Train Epoch: 0 [51200/60000 (85%)]\tLoss1: 0.021096 \tLoss2: 0.695281 \t accuracy:0.9920\n",
            "Train Epoch: 1 [0/60000 (0%)]\tLoss1: 0.008656 \tLoss2: 0.726872 \t accuracy:0.9960\n",
            "Train Epoch: 1 [25600/60000 (43%)]\tLoss1: 0.013142 \tLoss2: 0.710969 \t accuracy:0.9980\n",
            "Train Epoch: 1 [51200/60000 (85%)]\tLoss1: 0.014231 \tLoss2: 0.714818 \t accuracy:0.9960\n",
            "Train Epoch: 2 [0/60000 (0%)]\tLoss1: 0.005383 \tLoss2: 0.704622 \t accuracy:0.9980\n",
            "Train Epoch: 2 [25600/60000 (43%)]\tLoss1: 0.004781 \tLoss2: 0.699951 \t accuracy:0.9980\n",
            "Train Epoch: 2 [51200/60000 (85%)]\tLoss1: 0.005172 \tLoss2: 0.704289 \t accuracy:0.9980\n",
            "Train Epoch: 3 [0/60000 (0%)]\tLoss1: 0.006589 \tLoss2: 0.701177 \t accuracy:0.9960\n",
            "Train Epoch: 3 [25600/60000 (43%)]\tLoss1: 0.003830 \tLoss2: 0.729650 \t accuracy:0.9960\n",
            "Train Epoch: 3 [51200/60000 (85%)]\tLoss1: 0.002590 \tLoss2: 0.702867 \t accuracy:1.0000\n",
            "Train Epoch: 4 [0/60000 (0%)]\tLoss1: 0.003129 \tLoss2: 0.693996 \t accuracy:0.9960\n",
            "Train Epoch: 4 [25600/60000 (43%)]\tLoss1: 0.001212 \tLoss2: 0.685316 \t accuracy:0.9980\n",
            "Train Epoch: 4 [51200/60000 (85%)]\tLoss1: 0.001636 \tLoss2: 0.716676 \t accuracy:0.9960\n",
            "Train Epoch: 5 [0/60000 (0%)]\tLoss1: 0.004018 \tLoss2: 0.705426 \t accuracy:0.9980\n",
            "Train Epoch: 5 [25600/60000 (43%)]\tLoss1: 0.003841 \tLoss2: 0.728132 \t accuracy:0.9960\n",
            "Train Epoch: 5 [51200/60000 (85%)]\tLoss1: 0.003235 \tLoss2: 0.690406 \t accuracy:0.9980\n",
            "Train Epoch: 6 [0/60000 (0%)]\tLoss1: 0.001160 \tLoss2: 0.677872 \t accuracy:0.9980\n",
            "Train Epoch: 6 [25600/60000 (43%)]\tLoss1: 0.001770 \tLoss2: 0.701018 \t accuracy:0.9980\n",
            "Train Epoch: 6 [51200/60000 (85%)]\tLoss1: 0.000341 \tLoss2: 0.680529 \t accuracy:0.9960\n",
            "Train Epoch: 7 [0/60000 (0%)]\tLoss1: 0.001157 \tLoss2: 0.704449 \t accuracy:0.9940\n",
            "Train Epoch: 7 [25600/60000 (43%)]\tLoss1: 0.001441 \tLoss2: 0.664786 \t accuracy:0.9980\n",
            "Train Epoch: 7 [51200/60000 (85%)]\tLoss1: 0.001290 \tLoss2: 0.688425 \t accuracy:0.9980\n",
            "Train Epoch: 8 [0/60000 (0%)]\tLoss1: 0.000294 \tLoss2: 0.662163 \t accuracy:0.9980\n",
            "Train Epoch: 8 [25600/60000 (43%)]\tLoss1: 0.001524 \tLoss2: 0.690429 \t accuracy:1.0000\n",
            "Train Epoch: 8 [51200/60000 (85%)]\tLoss1: 0.000993 \tLoss2: 0.697203 \t accuracy:0.9980\n",
            "Train Epoch: 9 [0/60000 (0%)]\tLoss1: 0.000404 \tLoss2: 0.689545 \t accuracy:1.0000\n",
            "Train Epoch: 9 [25600/60000 (43%)]\tLoss1: 0.002670 \tLoss2: 0.709120 \t accuracy:0.9980\n",
            "Train Epoch: 9 [51200/60000 (85%)]\tLoss1: 0.000228 \tLoss2: 0.707258 \t accuracy:0.9980\n",
            "Train Epoch: 10 [0/60000 (0%)]\tLoss1: 0.000796 \tLoss2: 0.687863 \t accuracy:0.9980\n",
            "Train Epoch: 10 [25600/60000 (43%)]\tLoss1: 0.000920 \tLoss2: 0.674806 \t accuracy:0.9960\n",
            "Train Epoch: 10 [51200/60000 (85%)]\tLoss1: 0.002268 \tLoss2: 0.677729 \t accuracy:0.9980\n",
            "Train Epoch: 11 [0/60000 (0%)]\tLoss1: 0.000850 \tLoss2: 0.679875 \t accuracy:0.9980\n",
            "Train Epoch: 11 [25600/60000 (43%)]\tLoss1: 0.001386 \tLoss2: 0.656346 \t accuracy:0.9980\n",
            "Train Epoch: 11 [51200/60000 (85%)]\tLoss1: 0.000795 \tLoss2: 0.666317 \t accuracy:0.9960\n",
            "Train Epoch: 12 [0/60000 (0%)]\tLoss1: 0.000179 \tLoss2: 0.659814 \t accuracy:0.9960\n",
            "Train Epoch: 12 [25600/60000 (43%)]\tLoss1: 0.000119 \tLoss2: 0.636333 \t accuracy:1.0000\n",
            "Train Epoch: 12 [51200/60000 (85%)]\tLoss1: 0.000628 \tLoss2: 0.679682 \t accuracy:0.9960\n",
            "Train Epoch: 13 [0/60000 (0%)]\tLoss1: 0.000150 \tLoss2: 0.694890 \t accuracy:0.9960\n",
            "Train Epoch: 13 [25600/60000 (43%)]\tLoss1: 0.001195 \tLoss2: 0.662520 \t accuracy:0.9980\n",
            "Train Epoch: 13 [51200/60000 (85%)]\tLoss1: 0.000477 \tLoss2: 0.670742 \t accuracy:0.9980\n",
            "Train Epoch: 14 [0/60000 (0%)]\tLoss1: 0.000548 \tLoss2: 0.678189 \t accuracy:0.9980\n",
            "Train Epoch: 14 [25600/60000 (43%)]\tLoss1: 0.000106 \tLoss2: 0.644223 \t accuracy:0.9980\n",
            "Train Epoch: 14 [51200/60000 (85%)]\tLoss1: 0.000843 \tLoss2: 0.647016 \t accuracy:0.9940\n",
            "Train Epoch: 15 [0/60000 (0%)]\tLoss1: 0.000984 \tLoss2: 0.663061 \t accuracy:0.9980\n",
            "Train Epoch: 15 [25600/60000 (43%)]\tLoss1: 0.000263 \tLoss2: 0.645721 \t accuracy:0.9960\n",
            "Train Epoch: 15 [51200/60000 (85%)]\tLoss1: 0.001443 \tLoss2: 0.649678 \t accuracy:0.9980\n",
            "Train Epoch: 16 [0/60000 (0%)]\tLoss1: 0.000233 \tLoss2: 0.665220 \t accuracy:0.9940\n",
            "Train Epoch: 16 [25600/60000 (43%)]\tLoss1: 0.000988 \tLoss2: 0.642421 \t accuracy:0.9960\n",
            "Train Epoch: 16 [51200/60000 (85%)]\tLoss1: 0.000571 \tLoss2: 0.671856 \t accuracy:0.9980\n",
            "Train Epoch: 17 [0/60000 (0%)]\tLoss1: 0.000345 \tLoss2: 0.654498 \t accuracy:0.9980\n",
            "Train Epoch: 17 [25600/60000 (43%)]\tLoss1: 0.000742 \tLoss2: 0.640849 \t accuracy:0.9980\n",
            "Train Epoch: 17 [51200/60000 (85%)]\tLoss1: 0.000556 \tLoss2: 0.619342 \t accuracy:0.9960\n",
            "Train Epoch: 18 [0/60000 (0%)]\tLoss1: 0.000204 \tLoss2: 0.677043 \t accuracy:0.9980\n",
            "Train Epoch: 18 [25600/60000 (43%)]\tLoss1: 0.000237 \tLoss2: 0.656402 \t accuracy:1.0000\n",
            "Train Epoch: 18 [51200/60000 (85%)]\tLoss1: 0.002892 \tLoss2: 0.643888 \t accuracy:1.0000\n",
            "Train Epoch: 19 [0/60000 (0%)]\tLoss1: 0.001109 \tLoss2: 0.684048 \t accuracy:0.9980\n",
            "Train Epoch: 19 [25600/60000 (43%)]\tLoss1: 0.000818 \tLoss2: 0.668854 \t accuracy:0.9980\n",
            "Train Epoch: 19 [51200/60000 (85%)]\tLoss1: 0.000697 \tLoss2: 0.634967 \t accuracy:0.9980\n"
          ],
          "name": "stdout"
        }
      ]
    },
    {
      "cell_type": "code",
      "metadata": {
        "id": "G440jWVbOxNq",
        "colab_type": "code",
        "colab": {}
      },
      "source": [
        "torch.save(model.state_dict(), 'params.pkl')"
      ],
      "execution_count": 0,
      "outputs": []
    },
    {
      "cell_type": "code",
      "metadata": {
        "id": "WQyWBkWoELzr",
        "colab_type": "code",
        "outputId": "8334157a-175f-4a88-f773-85361622bd99",
        "colab": {
          "base_uri": "https://localhost:8080/",
          "height": 290
        }
      },
      "source": [
        "import os\n",
        "model = CapsuleNet()\n",
        "model.load_state_dict(torch.load('params.pkl'))\n",
        "\n",
        "model.to(DEVICE)\n",
        "print(model)"
      ],
      "execution_count": 73,
      "outputs": [
        {
          "output_type": "stream",
          "text": [
            "CapsuleNet(\n",
            "  (conv1): Conv2d(1, 256, kernel_size=(9, 9), stride=(1, 1))\n",
            "  (conv2): Conv2d(256, 256, kernel_size=(9, 9), stride=(2, 2))\n",
            "  (capsule): Capsule()\n",
            "  (Decoder): Decoder(\n",
            "    (reconstraction_layers): Sequential(\n",
            "      (0): Linear(in_features=160, out_features=512, bias=True)\n",
            "      (1): ReLU(inplace)\n",
            "      (2): Linear(in_features=512, out_features=1024, bias=True)\n",
            "      (3): ReLU(inplace)\n",
            "      (4): Linear(in_features=1024, out_features=784, bias=True)\n",
            "      (5): Sigmoid()\n",
            "    )\n",
            "  )\n",
            ")\n"
          ],
          "name": "stdout"
        }
      ]
    },
    {
      "cell_type": "code",
      "metadata": {
        "id": "wrmXX9Ty8Z1W",
        "colab_type": "code",
        "outputId": "d58b29dc-ea5e-4a0e-c580-4ebc504c8eba",
        "colab": {
          "base_uri": "https://localhost:8080/",
          "height": 385
        }
      },
      "source": [
        "import matplotlib.pyplot as plt\n",
        "import random\n",
        "import numpy as np\n",
        "import time\n",
        "\n",
        "img_num = 7\n",
        "k = random.randint(10,100)\n",
        "\n",
        "imgs = x_test[k:img_num+k].cpu().numpy()\n",
        "label = y_test[k:img_num+k].cpu().numpy()\n",
        "\n",
        "y_true = torch.sparse.torch.eye(10).index_select(dim=0, index=y_test[k:img_num+k].cpu().data)\n",
        "y_true = y_true.cuda()\n",
        "\n",
        "out,pred_imgs = model(x_test[k:img_num+k],y_true)\n",
        "pred_label = torch.sqrt(torch.sum(out*out, 2))\n",
        "\n",
        "pred_imgs = pred_imgs.cpu().detach().numpy()\n",
        "pred_label = pred_label.cpu().detach().numpy()\n",
        "pred_label = np.argmax(pred_label,1)\n",
        "\n",
        "plt.figure(\"test Image\",figsize=(img_num*3,3*2))\n",
        "for i in range(img_num):\n",
        "    index = i\n",
        "    img = imgs[index]\n",
        "    title = label[index]\n",
        "    img = img.reshape([28, 28])\n",
        "    \n",
        "    plt.subplot(2,img_num,i+1)\n",
        "    plt.imshow(img,cmap=plt.cm.gray)\n",
        "    plt.axis('off') \n",
        "    plt.title(title)\n",
        "    \n",
        "for i in range(img_num):\n",
        "    index = i\n",
        "    img = pred_imgs[index]\n",
        "    plt.subplot(2,img_num,i+img_num+1)\n",
        "    \n",
        "    title = pred_label[index]\n",
        "    img = img.reshape([28, 28])\n",
        "    plt.imshow(img,cmap=plt.cm.gray)\n",
        "    plt.axis('off') \n",
        "    plt.title(title)\n",
        "    \n",
        "filename = 'r1'+str(time.time())+'.jpg'\n",
        "plt.savefig(filename)\n",
        "plt.show()"
      ],
      "execution_count": 82,
      "outputs": [
        {
          "output_type": "display_data",
          "data": {
            "image/png": "[encoded data removed]",
            "text/plain": [
              "<Figure size 1512x432 with 14 Axes>"
            ]
          },
          "metadata": {
            "tags": []
          }
        }
      ]
    },
    {
      "cell_type": "code",
      "metadata": {
        "id": "jexXL2AahsE3",
        "colab_type": "code",
        "outputId": "a051c6e0-4215-4f8f-e02a-6454613584c0",
        "colab": {
          "base_uri": "https://localhost:8080/",
          "height": 670
        }
      },
      "source": [
        "import random\n",
        "k = random.randint(10,100)\n",
        "\n",
        "img_num = 6\n",
        "imgs = (torch.max(x_test[:img_num],x_test[k:img_num+k])).cpu().numpy()\n",
        "\n",
        "label1 = (y_test[:img_num]).cpu().numpy()\n",
        "label2 = (y_test[k:img_num+k]).cpu().numpy()\n",
        "\n",
        "y_true1 = torch.sparse.torch.eye(10).index_select(dim=0, index=y_test[:img_num].cpu().data)\n",
        "y_true1 = y_true1.cuda()\n",
        "\n",
        "y_true2 = torch.sparse.torch.eye(10).index_select(dim=0, index=y_test[k:img_num+k].cpu().data)\n",
        "y_true2 = y_true2.cuda()\n",
        "\n",
        "data = torch.tensor(imgs,dtype=torch.float,device=DEVICE)\n",
        "\n",
        "out1,pred_imgs1 = model(data,y_true1)\n",
        "out2,pred_imgs2 = model(data,y_true2)\n",
        "\n",
        "pred_label1 = torch.sqrt(torch.sum(out1*out1, 2))\n",
        "pred_label2 = torch.sqrt(torch.sum(out2*out2, 2))\n",
        "\n",
        "\n",
        "pred_imgs1 = pred_imgs1.cpu().detach().numpy()\n",
        "pred_imgs2 = pred_imgs2.cpu().detach().numpy()\n",
        "\n",
        "pred_label1 = pred_label1.cpu().detach().numpy()\n",
        "pred_label2 = pred_label2.cpu().detach().numpy()\n",
        "\n",
        "pred_label1 = np.argmax(pred_label1,1)\n",
        "pred_label2 = np.argmax(pred_label2,1)\n",
        "\n",
        "pred_imgs3 = np.zeros_like(pred_imgs1)\n",
        "\n",
        "pred_imgs = np.stack((pred_imgs1,pred_imgs2,pred_imgs3),1)\n",
        "pred_imgs = pred_imgs.transpose(0,3,4,1,2).squeeze(4)\n",
        "\n",
        "\n",
        "plt.figure(\"test Image\",figsize=(img_num*2,6*2))\n",
        "for i in range(img_num):\n",
        "    index = i\n",
        "    img = imgs[index]\n",
        "    title = str(label1[index])+\" \"+str(label2[index])\n",
        "    img = img.reshape([28, 28])\n",
        "    \n",
        "    plt.subplot(4,img_num,i+1)\n",
        "    plt.imshow(img,cmap=plt.cm.gray)\n",
        "    plt.axis('off') \n",
        "    plt.title(title)\n",
        "    \n",
        "for i in range(img_num):\n",
        "    index = i\n",
        "    \n",
        "    plt.subplot(4,img_num,i+img_num+1)\n",
        "    title = str(pred_label1[index])+\" \"+str(pred_label2[index])\n",
        "    \n",
        "    img = pred_imgs[index]\n",
        "    plt.imshow(img)\n",
        "    plt.axis('off') \n",
        "    plt.title(title)\n",
        "    \n",
        "    img1 = pred_imgs1[index]\n",
        "    img1 = img1.reshape([28, 28])    \n",
        "    plt.subplot(4,img_num,i+2*img_num+1)\n",
        "    plt.imshow(img1,cmap=plt.cm.gray)\n",
        "    plt.axis('off') \n",
        "    plt.title(title)\n",
        "    \n",
        "    img2 = pred_imgs2[index]\n",
        "    img2 = img2.reshape([28, 28])    \n",
        "    plt.subplot(4,img_num,i+3*img_num+1)\n",
        "    plt.imshow(img2,cmap=plt.cm.gray)\n",
        "    plt.axis('off') \n",
        "    plt.title(title)\n",
        "\n",
        "\n",
        "    \n",
        "filename = 'r2'+str(time.time())+'.jpg'\n",
        "plt.savefig(filename)    \n",
        "plt.show()"
      ],
      "execution_count": 108,
      "outputs": [
        {
          "output_type": "display_data",
          "data": {
            "image/png": "[encoded data removed]",
            "text/plain": [
              "<Figure size 864x864 with 24 Axes>"
            ]
          },
          "metadata": {
            "tags": []
          }
        }
      ]
    },
    {
      "cell_type": "code",
      "metadata": {
        "id": "j_XAjqROoB6j",
        "colab_type": "code",
        "colab": {}
      },
      "source": [
        ""
      ],
      "execution_count": 0,
      "outputs": []
    },
    {
      "cell_type": "code",
      "metadata": {
        "id": "1kj2RqFx1nCM",
        "colab_type": "code",
        "colab": {}
      },
      "source": [
        ""
      ],
      "execution_count": 0,
      "outputs": []
    }
  ]
}